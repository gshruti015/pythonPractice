{
 "cells": [
  {
   "cell_type": "code",
   "execution_count": 61,
   "metadata": {},
   "outputs": [
    {
     "data": {
      "text/plain": [
       "{1: 1, 45: 2, 7: 1, 8: 1, 90: 2}"
      ]
     },
     "execution_count": 61,
     "metadata": {},
     "output_type": "execute_result"
    }
   ],
   "source": [
    "dic1 = {'a':'23', 'b':'67', 'c':'45', 'd':'12'}\n",
    "bigword = None\n",
    "count = 0\n",
    "for k, v in dic1.items():\n",
    "    if bigword == None or count < int(v):\n",
    "        bigword = k\n",
    "        count = int(v)\n",
    "bigword, count\n",
    "\n",
    "l1 = [1,45,7,8,90,45, 90]\n",
    "dic2 = {}\n",
    "for item in l1:\n",
    "    dic2[item]=dic2.get(item,0)+1\n",
    "dic2"
   ]
  },
  {
   "cell_type": "code",
   "execution_count": 105,
   "metadata": {},
   "outputs": [
    {
     "name": "stdout",
     "output_type": "stream",
     "text": [
      "0b1001 0b100 13 0b1101\n",
      "('Shruti', 'q', 'w', 'e')\n"
     ]
    }
   ],
   "source": [
    "#floor operation 4 not 4.5\n",
    "9//4 \n",
    "\n",
    "# bitwise operations would convert numbers to binary and then operate on it, its a binary xor operation, gives one only of one of themm is one\n",
    "print(bin(9), bin(4), 9^4, bin(13))\n",
    "\n",
    "a = 60\n",
    "bin(a)[2:]\n",
    "a= 240\n",
    "bin(a << 2)[2:]\n",
    "a = 15\n",
    "bin(a >> 2)[2:]\n",
    "\n",
    "# list addition willjust add values at the end or at the beginning\n",
    "a= [1,2,3]\n",
    "b = ['c','d','e']\n",
    "a+b\n",
    "\n",
    "#tuples are faster than lists\n",
    "#even to create a tuple with single value we need to specify the comma:\n",
    "a = ('q',)\n",
    "b = ('q','w','e')\n",
    "b = ('Shruti',)+b\n",
    "print(b)"
   ]
  },
  {
   "cell_type": "code",
   "execution_count": 133,
   "metadata": {},
   "outputs": [
    {
     "name": "stdout",
     "output_type": "stream",
     "text": [
      "a 23\n",
      "b 67\n",
      "c 45\n",
      "d 12\n",
      "a 23\n",
      "b 67\n",
      "c 45\n",
      "d 12\n"
     ]
    },
    {
     "ename": "ValueError",
     "evalue": "not enough values to unpack (expected 2, got 1)",
     "output_type": "error",
     "traceback": [
      "\u001b[0;31m---------------------------------------------------------------------------\u001b[0m",
      "\u001b[0;31mValueError\u001b[0m                                Traceback (most recent call last)",
      "\u001b[0;32m<ipython-input-133-a71c988af47e>\u001b[0m in \u001b[0;36m<module>\u001b[0;34m\u001b[0m\n\u001b[1;32m      3\u001b[0m \u001b[0;32mfor\u001b[0m \u001b[0mi\u001b[0m \u001b[0;32min\u001b[0m \u001b[0mdic1\u001b[0m\u001b[0;34m:\u001b[0m\u001b[0;34m\u001b[0m\u001b[0;34m\u001b[0m\u001b[0m\n\u001b[1;32m      4\u001b[0m     \u001b[0mprint\u001b[0m\u001b[0;34m(\u001b[0m\u001b[0mi\u001b[0m\u001b[0;34m,\u001b[0m \u001b[0mdic1\u001b[0m\u001b[0;34m[\u001b[0m\u001b[0mi\u001b[0m\u001b[0;34m]\u001b[0m\u001b[0;34m)\u001b[0m\u001b[0;34m\u001b[0m\u001b[0;34m\u001b[0m\u001b[0m\n\u001b[0;32m----> 5\u001b[0;31m \u001b[0;32mfor\u001b[0m \u001b[0mx\u001b[0m\u001b[0;34m,\u001b[0m\u001b[0my\u001b[0m \u001b[0;32min\u001b[0m \u001b[0mdic1\u001b[0m\u001b[0;34m:\u001b[0m\u001b[0;34m\u001b[0m\u001b[0;34m\u001b[0m\u001b[0m\n\u001b[0m\u001b[1;32m      6\u001b[0m     \u001b[0mprint\u001b[0m\u001b[0;34m(\u001b[0m\u001b[0mx\u001b[0m\u001b[0;34m,\u001b[0m \u001b[0my\u001b[0m\u001b[0;34m)\u001b[0m\u001b[0;34m\u001b[0m\u001b[0;34m\u001b[0m\u001b[0m\n",
      "\u001b[0;31mValueError\u001b[0m: not enough values to unpack (expected 2, got 1)"
     ]
    }
   ],
   "source": [
    "#using two variables\n",
    "for k,v in dic1.items():\n",
    "    print(k, v)\n",
    "    \n",
    "#using one variable\n",
    "for i in dic1:\n",
    "    print(i, dic1[i])\n",
    "    \n",
    "#this one is incorrect\n",
    "for x,y in dic1:\n",
    "    print(x, y)\n",
    "    \n",
    "# a 23\n",
    "# b 67\n",
    "# c 45\n",
    "# d 12\n",
    "# a 23\n",
    "# b 67\n",
    "# c 45\n",
    "# d 12\n",
    "# ---------------------------------------------------------------------------\n",
    "# ValueError                                Traceback (most recent call last)\n",
    "# <ipython-input-133-a71c988af47e> in <module>\n",
    "#       3 for i in dic1:\n",
    "#       4     print(i, dic1[i])\n",
    "# ----> 5 for x,y in dic1:\n",
    "#       6     print(x, y)\n",
    "\n",
    "# ValueError: not enough values to unpack (expected 2, got 1)"
   ]
  },
  {
   "cell_type": "code",
   "execution_count": 140,
   "metadata": {},
   "outputs": [
    {
     "name": "stdout",
     "output_type": "stream",
     "text": [
      "name alice\n",
      "age 20\n",
      "gender f\n"
     ]
    }
   ],
   "source": [
    "xfile = open('mbox.txt') \n",
    "for line in xfile:\n",
    "    print line\n",
    "inp = fh.read() #single string\n",
    "lines = fh.readlines() #list seperated by /n"
   ]
  },
  {
   "cell_type": "code",
   "execution_count": null,
   "metadata": {},
   "outputs": [],
   "source": []
  }
 ],
 "metadata": {
  "kernelspec": {
   "display_name": "Python 3",
   "language": "python",
   "name": "python3"
  },
  "language_info": {
   "codemirror_mode": {
    "name": "ipython",
    "version": 3
   },
   "file_extension": ".py",
   "mimetype": "text/x-python",
   "name": "python",
   "nbconvert_exporter": "python",
   "pygments_lexer": "ipython3",
   "version": "3.7.4"
  }
 },
 "nbformat": 4,
 "nbformat_minor": 2
}
