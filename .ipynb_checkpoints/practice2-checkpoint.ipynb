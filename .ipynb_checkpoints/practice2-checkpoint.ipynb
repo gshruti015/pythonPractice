{
 "cells": [
  {
   "cell_type": "code",
   "execution_count": 1,
   "metadata": {},
   "outputs": [
    {
     "name": "stdout",
     "output_type": "stream",
     "text": [
      "3\n",
      "0\n",
      "1\n",
      "4\n"
     ]
    }
   ],
   "source": [
    "# Read an integer n. For all non-negative integers i<n, print n*n\n",
    "n = int(input())\n",
    "print(\"\\n\".join(str(i) for i in list(map(lambda x: x*x, [i for i in range(0, n)]))))"
   ]
  },
  {
   "cell_type": "code",
   "execution_count": 25,
   "metadata": {},
   "outputs": [
    {
     "name": "stdout",
     "output_type": "stream",
     "text": [
      "[4, 3, 2, 5]\n",
      "[5, 2, 3, 4] \n",
      "\n",
      "[5, 4, 3, 2]\n",
      "[5, 2, 3, 4] \n",
      "\n",
      "None\n",
      "[2, 3, 4, 5] \n",
      "\n"
     ]
    }
   ],
   "source": [
    "l = [5,2,3,4]\n",
    "print(l[::-1])\n",
    "print(l,'\\n')\n",
    "print(sorted(l, reverse = True))\n",
    "print(l,'\\n')\n",
    "print(l.sort()) # replaces l itslef\n",
    "print(l,'\\n')"
   ]
  },
  {
   "cell_type": "code",
   "execution_count": null,
   "metadata": {},
   "outputs": [],
   "source": []
  }
 ],
 "metadata": {
  "kernelspec": {
   "display_name": "Python 3",
   "language": "python",
   "name": "python3"
  },
  "language_info": {
   "codemirror_mode": {
    "name": "ipython",
    "version": 3
   },
   "file_extension": ".py",
   "mimetype": "text/x-python",
   "name": "python",
   "nbconvert_exporter": "python",
   "pygments_lexer": "ipython3",
   "version": "3.7.4"
  }
 },
 "nbformat": 4,
 "nbformat_minor": 2
}
