{
 "cells": [
  {
   "cell_type": "markdown",
   "metadata": {},
   "source": [
    "Each variable x, y and z will have values of 0 or 1. All permutations of lists in the form [i,j,k]\n",
    "Remove all arrays that sum to n=2  to leave only the valid permutations"
   ]
  },
  {
   "cell_type": "code",
   "execution_count": 73,
   "metadata": {
    "scrolled": true
   },
   "outputs": [
    {
     "name": "stdout",
     "output_type": "stream",
     "text": [
      "[[0, 0, 0], [1, 0, 0], [0, 1, 0], [0, 0, 1], [1, 1, 1]]\n"
     ]
    }
   ],
   "source": [
    "a=1\n",
    "b=1\n",
    "c=1\n",
    "n=2\n",
    "print([[i, j, k] for k in range(0, c+1) for j in range(0, b+1) for i in range(0, a+1) if sum([i, j, k]) !=n])"
   ]
  },
  {
   "cell_type": "markdown",
   "metadata": {},
   "source": [
    "An extra day is added to the calendar almost every four years as February 29, and the day is called a leap day. It corrects the calendar for the fact that our planet takes approximately 365.25 days to orbit the sun. A leap year contains a leap day.\n",
    "\n",
    "In the Gregorian calendar, three conditions are used to identify leap years:\n",
    "\n",
    "The year can be evenly divided by 4, is a leap year, unless:\n",
    "The year can be evenly divided by 100, it is NOT a leap year, unless:\n",
    "The year is also evenly divisible by 400. Then it is a leap year.\n",
    "This means that in the Gregorian calendar, the years 2000 and 2400 are leap years, while 1800, 1900, 2100, 2200, 2300 and 2500 are NOT leap years"
   ]
  },
  {
   "cell_type": "code",
   "execution_count": 30,
   "metadata": {},
   "outputs": [
    {
     "name": "stdout",
     "output_type": "stream",
     "text": [
      "False\n"
     ]
    }
   ],
   "source": [
    "a = 1990\n",
    "print(True if a%4 == 0 and a%100 !=0 or a%400 == 0 else False)"
   ]
  },
  {
   "cell_type": "markdown",
   "metadata": {},
   "source": [
    "Given the participants' score sheet for your University Sports Day, you are required to find the runner-up score. You are given  scores. Store them in a list and find the score of the runner-up."
   ]
  },
  {
   "cell_type": "code",
   "execution_count": 80,
   "metadata": {},
   "outputs": [
    {
     "name": "stdout",
     "output_type": "stream",
     "text": [
      "5\n",
      "2 3 6 6 5\n",
      "5\n"
     ]
    }
   ],
   "source": [
    "n = int(input())\n",
    "arr = map(int, input().split())\n",
    "arr2 = list(arr)\n",
    "print(max([i for i in arr2 if i!=max(arr2)]))"
   ]
  },
  {
   "cell_type": "code",
   "execution_count": 86,
   "metadata": {},
   "outputs": [
    {
     "name": "stdout",
     "output_type": "stream",
     "text": [
      "2 3 6 6 5\n",
      "5\n"
     ]
    }
   ],
   "source": [
    "n = 2\n",
    "arr = map(int, input().split())\n",
    "print(sorted(list(set(arr)))[-2])"
   ]
  },
  {
   "cell_type": "markdown",
   "metadata": {},
   "source": [
    "Given the names and grades for each student in a class of  students, store them in a nested list and print the name(s) of any student(s) having the second lowest grade."
   ]
  },
  {
   "cell_type": "code",
   "execution_count": 95,
   "metadata": {},
   "outputs": [
    {
     "name": "stdout",
     "output_type": "stream",
     "text": [
      "2\n",
      "fg\n",
      "45\n",
      "gh\n",
      "456\n"
     ]
    }
   ],
   "source": [
    "scorelist=[]\n",
    "namelist=[] \n",
    "for _ in range(int(input())):\n",
    "    name = input()\n",
    "    score = float(input())\n",
    "    namelist.append(name)\n",
    "    scorelist.append(score)\n",
    "d = dict(zip(namelist,scorelist))\n",
    "b = sorted(d.values())[1:][0]\n",
    "print([a for a in d.keys() if d[a] == b])\n",
    "\n",
    "marksheet = [['shruti', 5], ['medha', 7]]\n",
    "second_highest = sorted(list(set([marks for name, marks in marksheet])))[1]\n",
    "print('\\n'.join([a for a,b in sorted(marksheet) if b == second_highest]))"
   ]
  },
  {
   "cell_type": "markdown",
   "metadata": {},
   "source": [
    "The provided code stub will read in a dictionary containing key/value pairs of name:[marks] for a list of students. Print the average of the marks array for the student name provided, showing 2 places after the decimal.\n",
    "\n",
    "Example\n",
    "\n",
    "The query_name is 'beta'. beta's average score is .\n",
    "\n",
    "Sample Input 0\n",
    "\n",
    "3\n",
    "Krishna 67 68 69\n",
    "Arjun 70 98 63\n",
    "Malika 52 56 60\n",
    "Malika\n",
    "Sample Output 0\n",
    "\n",
    "56.00"
   ]
  },
  {
   "cell_type": "code",
   "execution_count": 205,
   "metadata": {},
   "outputs": [
    {
     "name": "stdout",
     "output_type": "stream",
     "text": [
      "Anurag 26 28 30\n",
      "Harsh 25 26.5 28\n",
      "26.5\n"
     ]
    }
   ],
   "source": [
    "n = 2\n",
    "student_marks = {}\n",
    "for _ in range(n):\n",
    "    name, *line = input().split()\n",
    "    scores = list(map(float, line))\n",
    "    student_marks[name] = scores\n",
    "query_name = 'Harsh'\n",
    "scores = student_marks[query_name]\n",
    "print((sum(scores)/len(scores)))"
   ]
  },
  {
   "cell_type": "code",
   "execution_count": 207,
   "metadata": {},
   "outputs": [
    {
     "name": "stdout",
     "output_type": "stream",
     "text": [
      "26.50\n",
      "26.5\n"
     ]
    }
   ],
   "source": [
    "from decimal import Decimal\n",
    "print(round(Decimal(sum(scores)/len(scores)),2))\n",
    "\n",
    "newlist=[]\n",
    "for key in student_marks.keys():\n",
    "    newlist.append([key, round(float(sum(student_marks[key]))/len(student_marks[key]),2)])\n",
    "print('/n'.join([str(value) for key,value in newlist if key==query_name]))"
   ]
  },
  {
   "cell_type": "code",
   "execution_count": 203,
   "metadata": {},
   "outputs": [
    {
     "data": {
      "text/plain": [
       "[['Harsh', 26.5], ['Anurag', 28.0]]"
      ]
     },
     "execution_count": 203,
     "metadata": {},
     "output_type": "execute_result"
    }
   ],
   "source": [
    "newlist"
   ]
  },
  {
   "cell_type": "code",
   "execution_count": null,
   "metadata": {},
   "outputs": [],
   "source": []
  }
 ],
 "metadata": {
  "kernelspec": {
   "display_name": "Python 3",
   "language": "python",
   "name": "python3"
  },
  "language_info": {
   "codemirror_mode": {
    "name": "ipython",
    "version": 3
   },
   "file_extension": ".py",
   "mimetype": "text/x-python",
   "name": "python",
   "nbconvert_exporter": "python",
   "pygments_lexer": "ipython3",
   "version": "3.7.4"
  }
 },
 "nbformat": 4,
 "nbformat_minor": 2
}
