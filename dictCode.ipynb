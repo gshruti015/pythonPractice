{
 "cells": [
  {
   "cell_type": "code",
   "execution_count": 2,
   "metadata": {
    "scrolled": true
   },
   "outputs": [],
   "source": [
    "fh = { \"applications\" : [ { \"applicationId\" : \"application_1569464961142_100889\", \"name\" : \"QueryResult.jar\", \"startTime\" : \"2019-10-04T10:00:36.076Z\", \"user\" : \"a_imgstor_sec_np\", \"pool\" : \"root.opsdata.batch\", \"state\" : \"RUNNING\", \"progress\" : 5.0, \"attributes\" : { \"killed_reduce_attempts\" : \"0\", \"successful_reduce_attempts\" : \"0\", \"tasks_pending\" : \"0\", \"successful_tasks_attempts\" : \"0\", \"new_tasks_attempts\" : \"0\", \"successful_map_attempts\" : \"0\", \"reduce_progress\" : \"0.0\", \"map_progress\" : \"0.0\", \"failed_map_attempts\" : \"1\", \"maps_completed\" : \"0\", \"running_reduce_attempts\" : \"0\", \"running_tasks_attempts\" : \"1\", \"reduces_pending\" : \"0\", \"uberized\" : \"false\", \"killed_map_attempts\" : \"0\", \"running_map_attempts\" : \"1\", \"running_application_info_retrieval_time\" : \"0.008\", \"total_task_num\" : \"1\", \"failed_tasks_attempts\" : \"1\", \"tracking_url\" : \"http://bdtpisr23n1.svr.us.jpmchase.net:8088/proxy/application_1569464961142_100889/\", \"new_reduce_attempts\" : \"0\", \"failed_reduce_attempts\" : \"0\", \"reduces_completed\" : \"0\", \"killed_tasks_attempts\" : \"0\", \"maps_pending\" : \"0\", \"new_map_attempts\" : \"0\", \"reduces_running\" : \"0\", \"maps_running\" : \"1\", \"tasks_completed\" : \"0\", \"reduces_total\" : \"0\", \"tasks_running\" : \"1\", \"maps_total\" : \"1\" }, \"applicationTags\" : [ \"\" ], \"allocatedMemorySeconds\" : 11958386376, \"allocatedVcoreSeconds\" : 1946349, \"allocatedMB\" : 12288, \"allocatedVCores\" : 2, \"runningContainers\" : 2, \"mr2AppInformation\" : { } }, { \"applicationId\" : \"application_1569464961142_103982\", \"name\" : \"QueryResult.jar\", \"startTime\" : \"2019-10-04T17:51:26.812Z\", \"user\" : \"a_imgstor_sec_np\", \"pool\" : \"root.opsdata.batch\", \"state\" : \"RUNNING\", \"progress\" : 5.0, \"attributes\" : { \"killed_reduce_attempts\" : \"0\", \"successful_reduce_attempts\" : \"0\", \"tasks_pending\" : \"0\", \"successful_tasks_attempts\" : \"0\", \"new_tasks_attempts\" : \"0\", \"successful_map_attempts\" : \"0\", \"reduce_progress\" : \"0.0\", \"map_progress\" : \"0.0\", \"failed_map_attempts\" : \"0\", \"maps_completed\" : \"0\", \"running_reduce_attempts\" : \"0\", \"running_tasks_attempts\" : \"1\", \"reduces_pending\" : \"0\", \"uberized\" : \"false\", \"killed_map_attempts\" : \"0\", \"running_map_attempts\" : \"1\", \"running_application_info_retrieval_time\" : \"0.013\", \"total_task_num\" : \"1\", \"failed_tasks_attempts\" : \"0\", \"tracking_url\" : \"http://bdtpisr23n1.svr.us.jpmchase.net:8088/proxy/application_1569464961142_103982/\", \"new_reduce_attempts\" : \"0\", \"failed_reduce_attempts\" : \"0\", \"reduces_completed\" : \"0\", \"killed_tasks_attempts\" : \"0\", \"maps_pending\" : \"0\", \"new_map_attempts\" : \"0\", \"reduces_running\" : \"0\", \"maps_running\" : \"1\", \"tasks_completed\" : \"0\", \"reduces_total\" : \"0\", \"tasks_running\" : \"1\", \"maps_total\" : \"1\" }, \"applicationTags\" : [ \"\" ], \"allocatedMemorySeconds\" : 11611237195, \"allocatedVcoreSeconds\" : 1889846, \"allocatedMB\" : 12288, \"allocatedVCores\" : 2, \"runningContainers\" : 2, \"mr2AppInformation\" : { } }, { \"applicationId\" : \"application_1569464961142_132858\", \"name\" : \"QueryResult.jar\", \"startTime\" : \"2019-10-07T10:00:26.746Z\", \"user\" : \"a_imgstor_sec_np\", \"pool\" : \"root.opsdata.batch\", \"state\" : \"RUNNING\", \"progress\" : 5.0, \"attributes\" : { \"killed_reduce_attempts\" : \"0\", \"successful_reduce_attempts\" : \"0\", \"tasks_pending\" : \"0\", \"successful_tasks_attempts\" : \"0\", \"new_tasks_attempts\" : \"0\", \"successful_map_attempts\" : \"0\", \"reduce_progress\" : \"0.0\", \"map_progress\" : \"0.0\", \"failed_map_attempts\" : \"2\", \"maps_completed\" : \"0\", \"running_reduce_attempts\" : \"0\", \"running_tasks_attempts\" : \"1\", \"reduces_pending\" : \"0\", \"uberized\" : \"false\", \"killed_map_attempts\" : \"0\", \"running_map_attempts\" : \"1\", \"running_application_info_retrieval_time\" : \"0.006\", \"total_task_num\" : \"1\", \"failed_tasks_attempts\" : \"2\", \"tracking_url\" : \"http://bdtpisr23n1.svr.us.jpmchase.net:8088/proxy/application_1569464961142_132858/\", \"new_reduce_attempts\" : \"0\", \"failed_reduce_attempts\" : \"0\", \"reduces_completed\" : \"0\", \"killed_tasks_attempts\" : \"0\", \"maps_pending\" : \"0\", \"new_map_attempts\" : \"0\", \"reduces_running\" : \"0\", \"maps_running\" : \"1\", \"tasks_completed\" : \"0\", \"reduces_total\" : \"0\", \"tasks_running\" : \"1\", \"maps_total\" : \"1\" }, \"applicationTags\" : [ \"\" ], \"allocatedMemorySeconds\" : 8773421841, \"allocatedVcoreSeconds\" : 1427960, \"allocatedMB\" : 12288, \"allocatedVCores\" : 2, \"runningContainers\" : 2, \"mr2AppInformation\" : { } }, { \"applicationId\" : \"application_1569464961142_134103\", \"name\" : \"QueryResult.jar\", \"startTime\" : \"2019-10-07T12:55:16.866Z\", \"user\" : \"a_imgstor_sec_np\", \"pool\" : \"root.opsdata.batch\", \"state\" : \"RUNNING\", \"progress\" : 5.0, \"attributes\" : { \"killed_reduce_attempts\" : \"0\", \"successful_reduce_attempts\" : \"0\", \"tasks_pending\" : \"0\", \"successful_tasks_attempts\" : \"0\", \"new_tasks_attempts\" : \"0\", \"successful_map_attempts\" : \"0\", \"reduce_progress\" : \"0.0\", \"map_progress\" : \"0.0\", \"failed_map_attempts\" : \"1\", \"maps_completed\" : \"0\", \"running_reduce_attempts\" : \"0\", \"running_tasks_attempts\" : \"1\", \"reduces_pending\" : \"0\", \"uberized\" : \"false\", \"killed_map_attempts\" : \"0\", \"running_map_attempts\" : \"1\", \"running_application_info_retrieval_time\" : \"0.006\", \"total_task_num\" : \"1\", \"failed_tasks_attempts\" : \"1\", \"tracking_url\" : \"http://bdtpisr23n1.svr.us.jpmchase.net:8088/proxy/application_1569464961142_134103/\", \"new_reduce_attempts\" : \"0\", \"failed_reduce_attempts\" : \"0\", \"reduces_completed\" : \"0\", \"killed_tasks_attempts\" : \"0\", \"maps_pending\" : \"0\", \"new_map_attempts\" : \"0\", \"reduces_running\" : \"0\", \"maps_running\" : \"1\", \"tasks_completed\" : \"0\", \"reduces_total\" : \"0\", \"tasks_running\" : \"1\", \"maps_total\" : \"1\" }, \"applicationTags\" : [ \"\" ], \"allocatedMemorySeconds\" : 8644543004, \"allocatedVcoreSeconds\" : 1406985, \"allocatedMB\" : 12288, \"allocatedVCores\" : 2, \"runningContainers\" : 2, \"mr2AppInformation\" : { } }, { \"applicationId\" : \"application_1569464961142_136578\", \"name\" : \"QueryResult.jar\", \"startTime\" : \"2019-10-07T18:36:27.037Z\", \"user\" : \"a_imgstor_sec_np\", \"pool\" : \"root.opsdata.batch\", \"state\" : \"RUNNING\", \"progress\" : 5.0, \"attributes\" : { \"killed_reduce_attempts\" : \"0\", \"successful_reduce_attempts\" : \"0\", \"tasks_pending\" : \"0\", \"successful_tasks_attempts\" : \"0\", \"new_tasks_attempts\" : \"0\", \"successful_map_attempts\" : \"0\", \"reduce_progress\" : \"0.0\", \"map_progress\" : \"0.0\", \"failed_map_attempts\" : \"0\", \"maps_completed\" : \"0\", \"running_reduce_attempts\" : \"0\", \"running_tasks_attempts\" : \"1\", \"reduces_pending\" : \"0\", \"uberized\" : \"false\", \"killed_map_attempts\" : \"0\", \"running_map_attempts\" : \"1\", \"running_application_info_retrieval_time\" : \"0.006\", \"total_task_num\" : \"1\", \"failed_tasks_attempts\" : \"0\", \"tracking_url\" : \"http://bdtpisr23n1.svr.us.jpmchase.net:8088/proxy/application_1569464961142_136578/\", \"new_reduce_attempts\" : \"0\", \"failed_reduce_attempts\" : \"0\", \"reduces_completed\" : \"0\", \"killed_tasks_attempts\" : \"0\", \"maps_pending\" : \"0\", \"new_map_attempts\" : \"0\", \"reduces_running\" : \"0\", \"maps_running\" : \"1\", \"tasks_completed\" : \"0\", \"reduces_total\" : \"0\", \"tasks_running\" : \"1\", \"maps_total\" : \"1\" }, \"applicationTags\" : [ \"\" ], \"allocatedMemorySeconds\" : 8393010228, \"allocatedVcoreSeconds\" : 1366046, \"allocatedMB\" : 12288, \"allocatedVCores\" : 2, \"runningContainers\" : 2, \"mr2AppInformation\" : { } }, { \"applicationId\" : \"application_1569464961142_137810\", \"name\" : \"QueryResult.jar\", \"startTime\" : \"2019-10-07T21:10:50.748Z\", \"user\" : \"a_imgstor_sec_np\", \"pool\" : \"root.opsdata.batch\", \"state\" : \"RUNNING\", \"progress\" : 5.0, \"attributes\" : { \"killed_reduce_attempts\" : \"0\", \"successful_reduce_attempts\" : \"0\", \"tasks_pending\" : \"0\", \"successful_tasks_attempts\" : \"0\", \"new_tasks_attempts\" : \"0\", \"successful_map_attempts\" : \"0\", \"reduce_progress\" : \"0.0\", \"map_progress\" : \"0.0\", \"failed_map_attempts\" : \"0\", \"maps_completed\" : \"0\", \"running_reduce_attempts\" : \"0\", \"running_tasks_attempts\" : \"1\", \"reduces_pending\" : \"0\", \"uberized\" : \"false\", \"killed_map_attempts\" : \"0\", \"running_map_attempts\" : \"1\", \"running_application_info_retrieval_time\" : \"0.006\", \"total_task_num\" : \"1\", \"failed_tasks_attempts\" : \"0\", \"tracking_url\" : \"http://bdtpisr23n1.svr.us.jpmchase.net:8088/proxy/application_1569464961142_137810/\", \"new_reduce_attempts\" : \"0\", \"failed_reduce_attempts\" : \"0\", \"reduces_completed\" : \"0\", \"killed_tasks_attempts\" : \"0\", \"maps_pending\" : \"0\", \"new_map_attempts\" : \"0\", \"reduces_running\" : \"0\", \"maps_running\" : \"1\", \"tasks_completed\" : \"0\", \"reduces_total\" : \"0\", \"tasks_running\" : \"1\", \"maps_total\" : \"1\" }, \"applicationTags\" : [ \"\" ], \"allocatedMemorySeconds\" : 8279166291, \"allocatedVcoreSeconds\" : 1347517, \"allocatedMB\" : 12288, \"allocatedVCores\" : 2, \"runningContainers\" : 2, \"mr2AppInformation\" : { } }, { \"applicationId\" : \"application_1569464961142_139049\", \"name\" : \"QueryResult.jar\", \"startTime\" : \"2019-10-07T23:27:17.883Z\", \"user\" : \"a_imgstor_sec_np\", \"pool\" : \"root.opsdata.batch\", \"state\" : \"RUNNING\", \"progress\" : 5.0, \"attributes\" : { \"killed_reduce_attempts\" : \"0\", \"successful_reduce_attempts\" : \"0\", \"tasks_pending\" : \"0\", \"successful_tasks_attempts\" : \"0\", \"new_tasks_attempts\" : \"0\", \"successful_map_attempts\" : \"0\", \"reduce_progress\" : \"0.0\", \"map_progress\" : \"0.0\", \"failed_map_attempts\" : \"0\", \"maps_completed\" : \"0\", \"running_reduce_attempts\" : \"0\", \"running_tasks_attempts\" : \"1\", \"reduces_pending\" : \"0\", \"uberized\" : \"false\", \"killed_map_attempts\" : \"0\", \"running_map_attempts\" : \"1\", \"running_application_info_retrieval_time\" : \"0.006\", \"total_task_num\" : \"1\", \"failed_tasks_attempts\" : \"0\", \"tracking_url\" : \"http://bdtpisr23n1.svr.us.jpmchase.net:8088/proxy/application_1569464961142_139049/\", \"new_reduce_attempts\" : \"0\", \"failed_reduce_attempts\" : \"0\", \"reduces_completed\" : \"0\", \"killed_tasks_attempts\" : \"0\", \"maps_pending\" : \"0\", \"new_map_attempts\" : \"0\", \"reduces_running\" : \"0\", \"maps_running\" : \"1\", \"tasks_completed\" : \"0\", \"reduces_total\" : \"0\", \"tasks_running\" : \"1\", \"maps_total\" : \"1\" }, \"applicationTags\" : [ \"\" ], \"allocatedMemorySeconds\" : 8178549866, \"allocatedVcoreSeconds\" : 1331140, \"allocatedMB\" : 12288, \"allocatedVCores\" : 2, \"runningContainers\" : 2, \"mr2AppInformation\" : { } }]}\n",
    "fh1 = fh['applications']"
   ]
  },
  {
   "cell_type": "code",
   "execution_count": 39,
   "metadata": {
    "scrolled": false
   },
   "outputs": [
    {
     "name": "stdout",
     "output_type": "stream",
     "text": [
      "{'applicationId': 'application_1569464961142_100889', 'name': 'QueryResult.jar', 'startTime': '2019-10-04T10:00:36.076Z', 'user': 'a_imgstor_sec_np', 'pool': 'root.opsdata.batch', 'state': 'RUNNING', 'progress': 5.0, 'attributes': {'killed_reduce_attempts': '0', 'successful_reduce_attempts': '0', 'tasks_pending': '0', 'successful_tasks_attempts': '0', 'new_tasks_attempts': '0', 'successful_map_attempts': '0', 'reduce_progress': '0.0', 'map_progress': '0.0', 'failed_map_attempts': '1', 'maps_completed': '0', 'running_reduce_attempts': '0', 'running_tasks_attempts': '1', 'reduces_pending': '0', 'uberized': 'false', 'killed_map_attempts': '0', 'running_map_attempts': '1', 'running_application_info_retrieval_time': '0.008', 'total_task_num': '1', 'failed_tasks_attempts': '1', 'tracking_url': 'http://bdtpisr23n1.svr.us.jpmchase.net:8088/proxy/application_1569464961142_100889/', 'new_reduce_attempts': '0', 'failed_reduce_attempts': '0', 'reduces_completed': '0', 'killed_tasks_attempts': '0', 'maps_pending': '0', 'new_map_attempts': '0', 'reduces_running': '0', 'maps_running': '1', 'tasks_completed': '0', 'reduces_total': '0', 'tasks_running': '1', 'maps_total': '1'}, 'applicationTags': [''], 'allocatedMemorySeconds': 11958386376, 'allocatedVcoreSeconds': 1946349, 'allocatedMB': 12288, 'allocatedVCores': 2, 'runningContainers': 2, 'mr2AppInformation': {}}\n",
      "application_1569464961142_100889\n",
      "\n",
      "\n",
      "{'applicationId': 'application_1569464961142_103982', 'name': 'QueryResult.jar', 'startTime': '2019-10-04T17:51:26.812Z', 'user': 'a_imgstor_sec_np', 'pool': 'root.opsdata.batch', 'state': 'RUNNING', 'progress': 5.0, 'attributes': {'killed_reduce_attempts': '0', 'successful_reduce_attempts': '0', 'tasks_pending': '0', 'successful_tasks_attempts': '0', 'new_tasks_attempts': '0', 'successful_map_attempts': '0', 'reduce_progress': '0.0', 'map_progress': '0.0', 'failed_map_attempts': '0', 'maps_completed': '0', 'running_reduce_attempts': '0', 'running_tasks_attempts': '1', 'reduces_pending': '0', 'uberized': 'false', 'killed_map_attempts': '0', 'running_map_attempts': '1', 'running_application_info_retrieval_time': '0.013', 'total_task_num': '1', 'failed_tasks_attempts': '0', 'tracking_url': 'http://bdtpisr23n1.svr.us.jpmchase.net:8088/proxy/application_1569464961142_103982/', 'new_reduce_attempts': '0', 'failed_reduce_attempts': '0', 'reduces_completed': '0', 'killed_tasks_attempts': '0', 'maps_pending': '0', 'new_map_attempts': '0', 'reduces_running': '0', 'maps_running': '1', 'tasks_completed': '0', 'reduces_total': '0', 'tasks_running': '1', 'maps_total': '1'}, 'applicationTags': [''], 'allocatedMemorySeconds': 11611237195, 'allocatedVcoreSeconds': 1889846, 'allocatedMB': 12288, 'allocatedVCores': 2, 'runningContainers': 2, 'mr2AppInformation': {}}\n",
      "application_1569464961142_103982\n",
      "\n",
      "\n",
      "{'applicationId': 'application_1569464961142_132858', 'name': 'QueryResult.jar', 'startTime': '2019-10-07T10:00:26.746Z', 'user': 'a_imgstor_sec_np', 'pool': 'root.opsdata.batch', 'state': 'RUNNING', 'progress': 5.0, 'attributes': {'killed_reduce_attempts': '0', 'successful_reduce_attempts': '0', 'tasks_pending': '0', 'successful_tasks_attempts': '0', 'new_tasks_attempts': '0', 'successful_map_attempts': '0', 'reduce_progress': '0.0', 'map_progress': '0.0', 'failed_map_attempts': '2', 'maps_completed': '0', 'running_reduce_attempts': '0', 'running_tasks_attempts': '1', 'reduces_pending': '0', 'uberized': 'false', 'killed_map_attempts': '0', 'running_map_attempts': '1', 'running_application_info_retrieval_time': '0.006', 'total_task_num': '1', 'failed_tasks_attempts': '2', 'tracking_url': 'http://bdtpisr23n1.svr.us.jpmchase.net:8088/proxy/application_1569464961142_132858/', 'new_reduce_attempts': '0', 'failed_reduce_attempts': '0', 'reduces_completed': '0', 'killed_tasks_attempts': '0', 'maps_pending': '0', 'new_map_attempts': '0', 'reduces_running': '0', 'maps_running': '1', 'tasks_completed': '0', 'reduces_total': '0', 'tasks_running': '1', 'maps_total': '1'}, 'applicationTags': [''], 'allocatedMemorySeconds': 8773421841, 'allocatedVcoreSeconds': 1427960, 'allocatedMB': 12288, 'allocatedVCores': 2, 'runningContainers': 2, 'mr2AppInformation': {}}\n",
      "application_1569464961142_132858\n",
      "\n",
      "\n",
      "{'applicationId': 'application_1569464961142_134103', 'name': 'QueryResult.jar', 'startTime': '2019-10-07T12:55:16.866Z', 'user': 'a_imgstor_sec_np', 'pool': 'root.opsdata.batch', 'state': 'RUNNING', 'progress': 5.0, 'attributes': {'killed_reduce_attempts': '0', 'successful_reduce_attempts': '0', 'tasks_pending': '0', 'successful_tasks_attempts': '0', 'new_tasks_attempts': '0', 'successful_map_attempts': '0', 'reduce_progress': '0.0', 'map_progress': '0.0', 'failed_map_attempts': '1', 'maps_completed': '0', 'running_reduce_attempts': '0', 'running_tasks_attempts': '1', 'reduces_pending': '0', 'uberized': 'false', 'killed_map_attempts': '0', 'running_map_attempts': '1', 'running_application_info_retrieval_time': '0.006', 'total_task_num': '1', 'failed_tasks_attempts': '1', 'tracking_url': 'http://bdtpisr23n1.svr.us.jpmchase.net:8088/proxy/application_1569464961142_134103/', 'new_reduce_attempts': '0', 'failed_reduce_attempts': '0', 'reduces_completed': '0', 'killed_tasks_attempts': '0', 'maps_pending': '0', 'new_map_attempts': '0', 'reduces_running': '0', 'maps_running': '1', 'tasks_completed': '0', 'reduces_total': '0', 'tasks_running': '1', 'maps_total': '1'}, 'applicationTags': [''], 'allocatedMemorySeconds': 8644543004, 'allocatedVcoreSeconds': 1406985, 'allocatedMB': 12288, 'allocatedVCores': 2, 'runningContainers': 2, 'mr2AppInformation': {}}\n",
      "application_1569464961142_134103\n",
      "\n",
      "\n",
      "{'applicationId': 'application_1569464961142_136578', 'name': 'QueryResult.jar', 'startTime': '2019-10-07T18:36:27.037Z', 'user': 'a_imgstor_sec_np', 'pool': 'root.opsdata.batch', 'state': 'RUNNING', 'progress': 5.0, 'attributes': {'killed_reduce_attempts': '0', 'successful_reduce_attempts': '0', 'tasks_pending': '0', 'successful_tasks_attempts': '0', 'new_tasks_attempts': '0', 'successful_map_attempts': '0', 'reduce_progress': '0.0', 'map_progress': '0.0', 'failed_map_attempts': '0', 'maps_completed': '0', 'running_reduce_attempts': '0', 'running_tasks_attempts': '1', 'reduces_pending': '0', 'uberized': 'false', 'killed_map_attempts': '0', 'running_map_attempts': '1', 'running_application_info_retrieval_time': '0.006', 'total_task_num': '1', 'failed_tasks_attempts': '0', 'tracking_url': 'http://bdtpisr23n1.svr.us.jpmchase.net:8088/proxy/application_1569464961142_136578/', 'new_reduce_attempts': '0', 'failed_reduce_attempts': '0', 'reduces_completed': '0', 'killed_tasks_attempts': '0', 'maps_pending': '0', 'new_map_attempts': '0', 'reduces_running': '0', 'maps_running': '1', 'tasks_completed': '0', 'reduces_total': '0', 'tasks_running': '1', 'maps_total': '1'}, 'applicationTags': [''], 'allocatedMemorySeconds': 8393010228, 'allocatedVcoreSeconds': 1366046, 'allocatedMB': 12288, 'allocatedVCores': 2, 'runningContainers': 2, 'mr2AppInformation': {}}\n",
      "application_1569464961142_136578\n",
      "\n",
      "\n",
      "{'applicationId': 'application_1569464961142_137810', 'name': 'QueryResult.jar', 'startTime': '2019-10-07T21:10:50.748Z', 'user': 'a_imgstor_sec_np', 'pool': 'root.opsdata.batch', 'state': 'RUNNING', 'progress': 5.0, 'attributes': {'killed_reduce_attempts': '0', 'successful_reduce_attempts': '0', 'tasks_pending': '0', 'successful_tasks_attempts': '0', 'new_tasks_attempts': '0', 'successful_map_attempts': '0', 'reduce_progress': '0.0', 'map_progress': '0.0', 'failed_map_attempts': '0', 'maps_completed': '0', 'running_reduce_attempts': '0', 'running_tasks_attempts': '1', 'reduces_pending': '0', 'uberized': 'false', 'killed_map_attempts': '0', 'running_map_attempts': '1', 'running_application_info_retrieval_time': '0.006', 'total_task_num': '1', 'failed_tasks_attempts': '0', 'tracking_url': 'http://bdtpisr23n1.svr.us.jpmchase.net:8088/proxy/application_1569464961142_137810/', 'new_reduce_attempts': '0', 'failed_reduce_attempts': '0', 'reduces_completed': '0', 'killed_tasks_attempts': '0', 'maps_pending': '0', 'new_map_attempts': '0', 'reduces_running': '0', 'maps_running': '1', 'tasks_completed': '0', 'reduces_total': '0', 'tasks_running': '1', 'maps_total': '1'}, 'applicationTags': [''], 'allocatedMemorySeconds': 8279166291, 'allocatedVcoreSeconds': 1347517, 'allocatedMB': 12288, 'allocatedVCores': 2, 'runningContainers': 2, 'mr2AppInformation': {}}\n",
      "application_1569464961142_137810\n",
      "\n",
      "\n",
      "{'applicationId': 'application_1569464961142_139049', 'name': 'QueryResult.jar', 'startTime': '2019-10-07T23:27:17.883Z', 'user': 'a_imgstor_sec_np', 'pool': 'root.opsdata.batch', 'state': 'RUNNING', 'progress': 5.0, 'attributes': {'killed_reduce_attempts': '0', 'successful_reduce_attempts': '0', 'tasks_pending': '0', 'successful_tasks_attempts': '0', 'new_tasks_attempts': '0', 'successful_map_attempts': '0', 'reduce_progress': '0.0', 'map_progress': '0.0', 'failed_map_attempts': '0', 'maps_completed': '0', 'running_reduce_attempts': '0', 'running_tasks_attempts': '1', 'reduces_pending': '0', 'uberized': 'false', 'killed_map_attempts': '0', 'running_map_attempts': '1', 'running_application_info_retrieval_time': '0.006', 'total_task_num': '1', 'failed_tasks_attempts': '0', 'tracking_url': 'http://bdtpisr23n1.svr.us.jpmchase.net:8088/proxy/application_1569464961142_139049/', 'new_reduce_attempts': '0', 'failed_reduce_attempts': '0', 'reduces_completed': '0', 'killed_tasks_attempts': '0', 'maps_pending': '0', 'new_map_attempts': '0', 'reduces_running': '0', 'maps_running': '1', 'tasks_completed': '0', 'reduces_total': '0', 'tasks_running': '1', 'maps_total': '1'}, 'applicationTags': [''], 'allocatedMemorySeconds': 8178549866, 'allocatedVcoreSeconds': 1331140, 'allocatedMB': 12288, 'allocatedVCores': 2, 'runningContainers': 2, 'mr2AppInformation': {}}\n",
      "application_1569464961142_139049\n",
      "\n",
      "\n",
      "['application_1569464961142_100889', 'application_1569464961142_103982', 'application_1569464961142_132858', 'application_1569464961142_134103', 'application_1569464961142_136578', 'application_1569464961142_137810', 'application_1569464961142_139049']\n",
      "[2, 2, 2, 2, 2, 2, 2]\n",
      "['0.008', '0.013', '0.006', '0.006', '0.006', '0.006', '0.006']\n"
     ]
    }
   ],
   "source": [
    "applicationId = [] \n",
    "runningContainers = []\n",
    "running_application_info_retrieval_time = []\n",
    "for i in range(len(fh1)):\n",
    "    val  = fh1[i]\n",
    "    print(val)\n",
    "    if(val['state']=='RUNNING' and val['user']=='a_imgstor_sec_np'):\n",
    "        print(val['applicationId'])\n",
    "        val2 = val['attributes']\n",
    "        applicationId.append(val['applicationId'])\n",
    "        runningContainers.append(val['runningContainers'])\n",
    "        running_application_info_retrieval_time.append(val2['running_application_info_retrieval_time'])  \n",
    "    print(\"\\n\")\n",
    "    \n",
    "\n",
    "print(applicationId)\n",
    "print(runningContainers)\n",
    "print(running_application_info_retrieval_time)"
   ]
  },
  {
   "cell_type": "code",
   "execution_count": 40,
   "metadata": {},
   "outputs": [],
   "source": [
    "import pandas as pd\n",
    "finaldf = pd.DataFrame(\n",
    "    {'applicationId': applicationId,\n",
    "     'runningContainers': runningContainers,\n",
    "     'running_application_info_retrieval_time': running_application_info_retrieval_time\n",
    "    })"
   ]
  },
  {
   "cell_type": "code",
   "execution_count": 41,
   "metadata": {},
   "outputs": [
    {
     "data": {
      "text/html": [
       "<div>\n",
       "<style scoped>\n",
       "    .dataframe tbody tr th:only-of-type {\n",
       "        vertical-align: middle;\n",
       "    }\n",
       "\n",
       "    .dataframe tbody tr th {\n",
       "        vertical-align: top;\n",
       "    }\n",
       "\n",
       "    .dataframe thead th {\n",
       "        text-align: right;\n",
       "    }\n",
       "</style>\n",
       "<table border=\"1\" class=\"dataframe\">\n",
       "  <thead>\n",
       "    <tr style=\"text-align: right;\">\n",
       "      <th></th>\n",
       "      <th>applicationId</th>\n",
       "      <th>runningContainers</th>\n",
       "      <th>running_application_info_retrieval_time</th>\n",
       "    </tr>\n",
       "  </thead>\n",
       "  <tbody>\n",
       "    <tr>\n",
       "      <td>0</td>\n",
       "      <td>application_1569464961142_100889</td>\n",
       "      <td>2</td>\n",
       "      <td>0.008</td>\n",
       "    </tr>\n",
       "    <tr>\n",
       "      <td>1</td>\n",
       "      <td>application_1569464961142_103982</td>\n",
       "      <td>2</td>\n",
       "      <td>0.013</td>\n",
       "    </tr>\n",
       "    <tr>\n",
       "      <td>2</td>\n",
       "      <td>application_1569464961142_132858</td>\n",
       "      <td>2</td>\n",
       "      <td>0.006</td>\n",
       "    </tr>\n",
       "    <tr>\n",
       "      <td>3</td>\n",
       "      <td>application_1569464961142_134103</td>\n",
       "      <td>2</td>\n",
       "      <td>0.006</td>\n",
       "    </tr>\n",
       "    <tr>\n",
       "      <td>4</td>\n",
       "      <td>application_1569464961142_136578</td>\n",
       "      <td>2</td>\n",
       "      <td>0.006</td>\n",
       "    </tr>\n",
       "    <tr>\n",
       "      <td>5</td>\n",
       "      <td>application_1569464961142_137810</td>\n",
       "      <td>2</td>\n",
       "      <td>0.006</td>\n",
       "    </tr>\n",
       "    <tr>\n",
       "      <td>6</td>\n",
       "      <td>application_1569464961142_139049</td>\n",
       "      <td>2</td>\n",
       "      <td>0.006</td>\n",
       "    </tr>\n",
       "  </tbody>\n",
       "</table>\n",
       "</div>"
      ],
      "text/plain": [
       "                      applicationId  runningContainers  \\\n",
       "0  application_1569464961142_100889                  2   \n",
       "1  application_1569464961142_103982                  2   \n",
       "2  application_1569464961142_132858                  2   \n",
       "3  application_1569464961142_134103                  2   \n",
       "4  application_1569464961142_136578                  2   \n",
       "5  application_1569464961142_137810                  2   \n",
       "6  application_1569464961142_139049                  2   \n",
       "\n",
       "  running_application_info_retrieval_time  \n",
       "0                                   0.008  \n",
       "1                                   0.013  \n",
       "2                                   0.006  \n",
       "3                                   0.006  \n",
       "4                                   0.006  \n",
       "5                                   0.006  \n",
       "6                                   0.006  "
      ]
     },
     "execution_count": 41,
     "metadata": {},
     "output_type": "execute_result"
    }
   ],
   "source": [
    "finaldf"
   ]
  },
  {
   "cell_type": "code",
   "execution_count": 42,
   "metadata": {},
   "outputs": [],
   "source": [
    "finaldf.to_excel(\"output.xlsx\") "
   ]
  }
 ],
 "metadata": {
  "kernelspec": {
   "display_name": "Python 3",
   "language": "python",
   "name": "python3"
  },
  "language_info": {
   "codemirror_mode": {
    "name": "ipython",
    "version": 3
   },
   "file_extension": ".py",
   "mimetype": "text/x-python",
   "name": "python",
   "nbconvert_exporter": "python",
   "pygments_lexer": "ipython3",
   "version": "3.7.4"
  }
 },
 "nbformat": 4,
 "nbformat_minor": 2
}
