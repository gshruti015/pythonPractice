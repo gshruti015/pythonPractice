{
 "cells": [
  {
   "cell_type": "code",
   "execution_count": null,
   "metadata": {},
   "outputs": [],
   "source": [
    "import pandas as pd\n",
    "import numpy as np"
   ]
  },
  {
   "cell_type": "code",
   "execution_count": 6,
   "metadata": {},
   "outputs": [
    {
     "data": {
      "text/plain": [
       "[1, 2, 3, 4, 5, 8, 9, 10, 11]"
      ]
     },
     "execution_count": 6,
     "metadata": {},
     "output_type": "execute_result"
    }
   ],
   "source": [
    "#Flatten a list of lists\n",
    "l1 = [[1,2,3], [4,5], [8,9,10,11]]\n",
    "l = [j for i in l1 for j in i]\n",
    "l"
   ]
  },
  {
   "cell_type": "code",
   "execution_count": 8,
   "metadata": {
    "scrolled": true
   },
   "outputs": [
    {
     "data": {
      "text/plain": [
       "2.6"
      ]
     },
     "execution_count": 8,
     "metadata": {},
     "output_type": "execute_result"
    }
   ],
   "source": [
    "# avg word length \n",
    "s = 'Hi my name is Bob'\n",
    "l1 = s.split(' ')\n",
    "l2 = [len(i) for i in l1]\n",
    "sum(l2)/len(l2)"
   ]
  },
  {
   "cell_type": "code",
   "execution_count": 10,
   "metadata": {},
   "outputs": [
    {
     "name": "stdout",
     "output_type": "stream",
     "text": [
      "['A', 'B']\n",
      "['A', 'C']\n"
     ]
    }
   ],
   "source": [
    "l= [['A','B'],['A','C'],['B', 'D'],['B','C'],['R','M'],['S'],['P'],['A']]\n",
    "\n",
    "for item in l:\n",
    "    if(len(item)==2):\n",
    "        if(item[0] == 'A' or item[1] =='A'):\n",
    "            print(item)"
   ]
  },
  {
   "cell_type": "code",
   "execution_count": null,
   "metadata": {},
   "outputs": [],
   "source": [
    "#valid IP address\n",
    "s = \"125.512.100.abc\"\n",
    "l = s.split('.')\n",
    "for item in l:\n",
    "    if 0 <= int(item) <= 255:\n",
    "        #print(\"Valid\")\n",
    "        continue\n",
    "    else:\n",
    "        print(\"Not Valid\")\n",
    "        break   "
   ]
  },
  {
   "cell_type": "code",
   "execution_count": null,
   "metadata": {},
   "outputs": [],
   "source": [
    "#valid email address\n",
    "s= 'shruti.gupta@xyz.'\n",
    "if '@' in s:\n",
    "    l = s.split('@')\n",
    "    if '.' in l[1]:\n",
    "        l1 = l[1].split('.')\n",
    "        if l1[1] not in ['com','edu']:\n",
    "            print('invalid domain')\n",
    "        if l1[0] not in ['gmail','yahoo']:\n",
    "            print('invalid server')\n",
    "    else:\n",
    "        print('invalid')\n",
    "else:\n",
    "    print('invalid')"
   ]
  },
  {
   "cell_type": "code",
   "execution_count": 18,
   "metadata": {},
   "outputs": [],
   "source": [
    "l = [['A'],['A','B'],['A','C'],['B','D'],['C','A']] \n",
    "allkeys = [j for i in l for j in i]\n",
    "allkeys = list(set(allkeys))\n",
    "d = {}\n",
    "for i in allkeys:\n",
    "    for key in l:\n",
    "        if i in key:\n",
    "            d[i] = d.get(i,0)+1"
   ]
  },
  {
   "cell_type": "code",
   "execution_count": 16,
   "metadata": {},
   "outputs": [
    {
     "data": {
      "text/plain": [
       "{'A': 4, 'B': 2, 'D': 1, 'C': 2}"
      ]
     },
     "execution_count": 16,
     "metadata": {},
     "output_type": "execute_result"
    }
   ],
   "source": [
    "d"
   ]
  },
  {
   "cell_type": "code",
   "execution_count": 19,
   "metadata": {},
   "outputs": [
    {
     "name": "stdout",
     "output_type": "stream",
     "text": [
      "[(1, 2, 3), (4, 5, 6)]\n",
      "[1, 2, 3, 4, 5, 6]\n",
      "['shrtu']\n",
      "['s', 'h', 'r', 't', 'u']\n"
     ]
    }
   ],
   "source": [
    "#find diff between dict() and {} as for computation none\n",
    "\n",
    "#find diff between list() and [] and tolist()\n",
    "A=(1,2,3)\n",
    "B=(4,5,6)\n",
    "C=[A]+[B]\n",
    "print(C)\n",
    "C=list(A)+list(B)\n",
    "print(C)\n",
    "\n",
    "s= 'shrtu'\n",
    "print([s])\n",
    "print(list(s)) \n",
    "# As you can see “[]” does not try to convert tuple into a list. It just returns the location of \n",
    "# tuple i.e. it will not store the element of tuple in C variable but the memory location of tuple. \n",
    "# As a result you will get list of tuples\n",
    "\n",
    "# The end result is the same whether you use [ ] or list() and same for { } vs. dict(). \n",
    "# There is a difference in performance, though. [ ] and { } are more performant than the alternatives, list() and dict(), \n",
    "# mainly because using list() and dict() involves the overhead of symbol lookup and function invocation.\n",
    "\n",
    "# In my opinion, using [ ] and { } is more pythonic. In addition, this notation allows you to take advantage of \n",
    "# list/dictionary comprehension"
   ]
  },
  {
   "cell_type": "code",
   "execution_count": 20,
   "metadata": {},
   "outputs": [
    {
     "name": "stdout",
     "output_type": "stream",
     "text": [
      "shrtu\n",
      "('s', 'h', 'r', 't', 'u')\n"
     ]
    }
   ],
   "source": [
    "s= 'shrtu'\n",
    "print((s))\n",
    "print(tuple(s))"
   ]
  },
  {
   "cell_type": "code",
   "execution_count": 22,
   "metadata": {},
   "outputs": [],
   "source": [
    "l = [1, 2, 2, 1, 13, 1, 2]\n",
    "i=0\n",
    "val=0\n",
    "while i < len(l):\n",
    "    if l[i]==13:\n",
    "        i += 2\n",
    "        continue\n",
    "    else:\n",
    "        val+=l[i]\n",
    "        i+=1"
   ]
  },
  {
   "cell_type": "code",
   "execution_count": 23,
   "metadata": {},
   "outputs": [],
   "source": [
    "# for loop works like a foreach loop in python, in c php and other langs it works different\n",
    "l = [1, 2, 2, 1, 13, 1, 2]\n",
    "i=0\n",
    "val=0\n",
    "for i in range(len(l)):\n",
    "    if l[i]==13:\n",
    "        i += 2\n",
    "        continue\n",
    "    else:\n",
    "        val+=l[i]"
   ]
  },
  {
   "cell_type": "code",
   "execution_count": 25,
   "metadata": {},
   "outputs": [
    {
     "name": "stdout",
     "output_type": "stream",
     "text": [
      "[1, 2, 2]\n"
     ]
    }
   ],
   "source": [
    "nums = [1, 2, 2, 6, 99, 99, 7]\n",
    "print(nums[:nums.index(6)] + nums[nums.index(7)+1:])"
   ]
  },
  {
   "cell_type": "code",
   "execution_count": null,
   "metadata": {},
   "outputs": [],
   "source": [
    "nums = [1, 2, 1, 2]"
   ]
  },
  {
   "cell_type": "code",
   "execution_count": 26,
   "metadata": {},
   "outputs": [
    {
     "name": "stdout",
     "output_type": "stream",
     "text": [
      "xx xx\n",
      "1\n",
      "xc xb\n",
      "1\n",
      "ca ba\n",
      "1\n",
      "aa aa\n",
      "2\n",
      "az az\n",
      "3\n"
     ]
    }
   ],
   "source": [
    "a = 'xxcaazz'\n",
    "b = 'xxbaaz'\n",
    "c = 0\n",
    "for i in range(len(max(a,b))-2):\n",
    "    print(a[i:i+2], b[i:i+2])\n",
    "    if a[i:i+2] == b[i:i+2]:\n",
    "        c = c+1\n",
    "    print(c)"
   ]
  },
  {
   "cell_type": "code",
   "execution_count": null,
   "metadata": {},
   "outputs": [],
   "source": [
    "n = 19\n",
    "while(True):\n",
    "    q = str(n)\n",
    "    num = list(str(q))\n",
    "#     nums = [int(i)*int(i) for i in num]\n",
    "#     nums = list(map(lambda i : int(i)*int(i), num)) ##u have to convert map to list \n",
    "    nums = [*map(lambda i : int(i)*int(i), num)] ##u can do it like this\n",
    "    if sum(nums) == 1:\n",
    "        break\n",
    "    else:\n",
    "        n = sum([int(i) for i in nums])\n",
    "        print(n)"
   ]
  },
  {
   "cell_type": "code",
   "execution_count": 27,
   "metadata": {},
   "outputs": [
    {
     "name": "stdout",
     "output_type": "stream",
     "text": [
      "0 a\n",
      "1 e\n",
      "2 i\n",
      "3 o\n",
      "4 u\n"
     ]
    }
   ],
   "source": [
    "vowels=['a','e','i','o','u'] ##to know indexes faster\n",
    "for i, letter in enumerate(vowels): \n",
    "    print (i, letter)"
   ]
  },
  {
   "cell_type": "code",
   "execution_count": null,
   "metadata": {},
   "outputs": [],
   "source": [
    "foo_list = (3, 4) \n",
    "bar_dict = {'y': 3, 'x': 2} \n",
    "  \n",
    "print(*foo_list) # Unpacking Lists \n",
    "print(foo_list)"
   ]
  },
  {
   "cell_type": "code",
   "execution_count": null,
   "metadata": {},
   "outputs": [],
   "source": [
    "def round_sum1(a, b, c):\n",
    "    # newl = [i + (10-(i%10)) if i%10>=5 else i-i%10 for i in [a,b,c]]\n",
    "    newl = map(lambda i: i + (10-(i%10)) if i%10>=5 else i-i%10, [a,b,c])\n",
    "    val = sum([*newl]) \n",
    "    return(val)\n",
    "print(round_sum1(64, 21, 15))"
   ]
  },
  {
   "cell_type": "code",
   "execution_count": 28,
   "metadata": {
    "scrolled": true
   },
   "outputs": [
    {
     "name": "stdout",
     "output_type": "stream",
     "text": [
      "of\n",
      "is\n",
      "that\n",
      "this\n",
      "hello\n",
      "hi\n"
     ]
    }
   ],
   "source": [
    "wordList = ['hi', 'hello', 'this', 'that', 'is', 'of']\n",
    "for i in range(len(wordList) - 1, -1, -1) :\n",
    "    print(wordList[i])"
   ]
  },
  {
   "cell_type": "markdown",
   "metadata": {},
   "source": [
    "### NumPy"
   ]
  },
  {
   "cell_type": "code",
   "execution_count": 1,
   "metadata": {},
   "outputs": [
    {
     "name": "stdout",
     "output_type": "stream",
     "text": [
      "[10 -4  5]\n",
      "[[1 2 3]\n",
      " [3 4 5]]\n",
      "[[2 3 4]\n",
      " [5 4 6]]\n",
      "[0. 0. 0. 0. 0. 0. 0. 0. 0. 0.]\n",
      "[[[0 0]\n",
      "  [0 0]\n",
      "  [0 0]]\n",
      "\n",
      " [[0 0]\n",
      "  [0 0]\n",
      "  [0 0]]]\n",
      "[3. 3. 3. 3. 3.]\n",
      "[[1. 1. 1.]\n",
      " [1. 1. 1.]]\n",
      "[ 1  2  3  4  5  6  7  8  9 10 11 12 13 14 15 16 17 18 19 20 21 22 23 24\n",
      " 25 26 27 28 29 30 31 32 33 34 35 36 37 38 39 40 41 42 43 44 45]\n",
      "[30 31 32 33 34 35 36 37 38 39 40 41 42 43 44 45 46 47 48 49 50 51 52 53\n",
      " 54 55 56 57 58 59 60 61 62 63 64 65 66 67 68 69 70]\n",
      "[30 32 34 36 38 40 42 44 46 48 50 52 54 56 58 60 62 64 66 68 70]\n",
      "[-0.96836243]\n",
      "[[0.79049745 0.79502336]\n",
      " [0.21776484 0.96726176]\n",
      " [0.38838285 0.73834648]]\n",
      "[[3 3 3 5]\n",
      " [3 4 5 4]]\n",
      "[4 6]\n"
     ]
    }
   ],
   "source": [
    "import numpy as np \n",
    "print(np.array([10, -4, 5])) #an array made with basic values \n",
    "n = np.array([[1,2,3], [3, 4, 5]])\n",
    "print(n)\n",
    "l = [2, 3,4]\n",
    "q = [5, 4, 6]\n",
    "m = np.array([l, q])\n",
    "print(m)\n",
    "\n",
    "print(np.zeros(10)) #array of 10 zeros\n",
    "print(np.zeros((2,3,2), dtype = int)) #two d array of m rows, each row haveng n rows and o columns \n",
    "print(np.ones(5)*3) #array of five threes \n",
    "print(np.ones((2,3))) # see the double brackets here -> if you are giving double dimesnion its a matrix\n",
    "\n",
    "print(np.arange(1,46)) #see the range here \n",
    "print(np.arange(30,71)) # array of numbers form 30 to 70\n",
    "print(np.arange(30,71,2)) #step size hereacts as modulus for even numbers u can change it to make odds\n",
    "\n",
    "print(np.random.normal(0,1,1)) # return number from normal distribution\n",
    "print(np.random.rand(3,2)) #shape of random number\n",
    "print(np.random.randint(3, 7, size=(2, 4)))\n",
    "print(np.random.randint(3, 7, size=(2)))\n",
    "\n",
    "import random\n",
    "random.randint(10,20)\n",
    "random.randrange(10,20,4)"
   ]
  },
  {
   "cell_type": "code",
   "execution_count": null,
   "metadata": {},
   "outputs": [],
   "source": [
    "a, *b = map(int, input().split())\n",
    "print(a, b)\n",
    "\n",
    "\n",
    "s = 'My name is Joh,Jo, 454, tyt, 565'\n",
    "print(s)\n",
    "print(s.split(',',2))\n",
    "# ['My name is Joh', 'Jo', ' 454, tyt, 565']\n",
    "\n",
    "import random \n",
    "print(random.randrange(0,10,2))\n",
    "# 0 2 4 6 8 -> inme se kuch \n",
    "\n",
    "arr = input().strip().split(' ')\n",
    "print(np.array(arr[::-1], float))\n",
    "# reversed array\n",
    "\n",
    "a = list(map(int, input().split(' '))) # 9 elememts\n",
    "b = np.array(a, int) #load as numpy array of int type\n",
    "print(np.reshape(b,(3,3))\n",
    "# 3,3 matrix"
   ]
  },
  {
   "cell_type": "code",
   "execution_count": null,
   "metadata": {},
   "outputs": [],
   "source": [
    "# also understnad the use of split and map and list, u dont need to unpack if there is split and multiple vars on lhs\n",
    "a, b = map(int, input().split(' ')) \n",
    "array = np.array([input().split() for i in range(a)], int)\n",
    "print(array.transpose())\n",
    "print(array.flatten())\n",
    "\n",
    "a = list(map(int, input().split(' ')))\n",
    "array = np.array([input().split() for i in range(a[0])], int)\n",
    "print(array.transpose())\n",
    "print(array.flatten())"
   ]
  },
  {
   "cell_type": "code",
   "execution_count": 4,
   "metadata": {},
   "outputs": [
    {
     "name": "stdout",
     "output_type": "stream",
     "text": [
      "2 2 2\n",
      "7 56\n",
      "56 5\n",
      "78 4\n",
      "56 4\n",
      "[[ 7 56]\n",
      " [56  5]\n",
      " [78  4]\n",
      " [56  4]]\n",
      "2 3 2\n",
      "[[[0 0]\n",
      "  [0 0]\n",
      "  [0 0]]\n",
      "\n",
      " [[0 0]\n",
      "  [0 0]\n",
      "  [0 0]]]\n",
      "[[[1 1]\n",
      "  [1 1]\n",
      "  [1 1]]\n",
      "\n",
      " [[1 1]\n",
      "  [1 1]\n",
      "  [1 1]]]\n",
      "5 7 7\n",
      "[[0. 0. 0. 0. 0. 0. 0.]\n",
      " [0. 0. 0. 0. 0. 0. 0.]\n",
      " [0. 0. 0. 0. 0. 0. 0.]\n",
      " [0. 0. 0. 0. 0. 0. 0.]\n",
      " [0. 0. 0. 0. 0. 0. 0.]]\n",
      "[[1. 0. 0.]\n",
      " [0. 1. 0.]\n",
      " [0. 0. 1.]]\n"
     ]
    }
   ],
   "source": [
    "m, n, o = map(int, input().split())\n",
    "a = np.array([input().split() for _ in range(m)], int)\n",
    "b = np.array([input().split() for _ in range(n)], int)\n",
    "print(np.concatenate((a, b))) # note the use of (), u need to put inside this\n",
    "\n",
    "m, n, o = map(int, input().strip().split())\n",
    "print(np.zeros((m,n,o), dtype = int))\n",
    "print(np.ones((m,n,o), dtype = int))\n",
    "\n",
    "print(np.eye(*map(int,input().split()))) # note the use of *\n",
    "print(np.identity(3))"
   ]
  },
  {
   "cell_type": "code",
   "execution_count": null,
   "metadata": {},
   "outputs": [],
   "source": [
    "import numpy\n",
    "\n",
    "m, n = map(int, input().split())\n",
    "a =  numpy.array([input().split() for _ in range(m)], int)\n",
    "b =  numpy.array([input().split() for _ in range(m)], int)\n",
    "print(numpy.add(a, b))\n",
    "print(numpy.subtract(a, b))\n",
    "print(numpy.multiply(a, b))\n",
    "print(numpy.floor_divide(a, b))\n",
    "print(numpy.mod(a, b))\n",
    "print(numpy.power(a, b))\n",
    "\n",
    "a = numpy.array(input().split(),float)\n",
    "print(numpy.floor(a))\n",
    "print(numpy.ceil(a))\n",
    "print(numpy.rint(a))\n",
    "      \n",
    "m, n = map(int, input().split())\n",
    "arr = numpy.array([input().split() for _ in range(m)], int)\n",
    "print(numpy.max(numpy.min(arr,axis=1)))"
   ]
  },
  {
   "cell_type": "code",
   "execution_count": null,
   "metadata": {
    "scrolled": true
   },
   "outputs": [],
   "source": [
    "a = np.array([input().split()], int)\n",
    "b = np.array([input().split()], int)\n",
    "print(np.inner(a,b))\n",
    "\n",
    "\n",
    "b = np.array([3, 6, 1])\n",
    "c = np.array([4, 2, 9])\n",
    "print(np.maximum(b, c))\n",
    "# array([4, 6, 9])\n",
    "\n",
    "a = np.array([[0, 1, 6],[2, 4, 1]])\n",
    "print(np.max(a))\n",
    "# 6\n",
    "\n",
    "print(np.max(a, axis=0)) # max of each column\n",
    "# array([2, 4, 6])"
   ]
  },
  {
   "cell_type": "code",
   "execution_count": 5,
   "metadata": {},
   "outputs": [
    {
     "name": "stdout",
     "output_type": "stream",
     "text": [
      "Input unsorted array :  [2 0 1 5 4 1 9]\n",
      "Output sorted array indices :  [1 2 5 0 4 3 6]\n",
      "Output sorted array :  [0 1 1 2 4 5 9]\n"
     ]
    },
    {
     "data": {
      "text/plain": [
       "array([6, 1])"
      ]
     },
     "execution_count": 5,
     "metadata": {},
     "output_type": "execute_result"
    }
   ],
   "source": [
    "import numpy as geek \n",
    "  \n",
    "# input array \n",
    "in_arr = geek.array([ 2, 0,  1, 5, 4, 1, 9]) \n",
    "print (\"Input unsorted array : \", in_arr)  \n",
    "  \n",
    "out_arr = geek.argsort(in_arr) \n",
    "print (\"Output sorted array indices : \", out_arr) \n",
    "print(\"Output sorted array : \", in_arr[out_arr]) # note here its like saying in_arr[[1, 2, 5, 0, 4, 3, 6]]\n",
    "\n",
    "b = np.array([3, 6, 1])\n",
    "b[[1,2]]\n",
    "# array([6, 1])\n",
    "\n",
    "b = np.array([3, 6, 1])\n",
    "l= [1,2]\n",
    "b[l]\n",
    "# array([6, 1])"
   ]
  },
  {
   "cell_type": "code",
   "execution_count": 13,
   "metadata": {},
   "outputs": [
    {
     "name": "stdout",
     "output_type": "stream",
     "text": [
      "[9 8]\n",
      "[8 9]\n"
     ]
    }
   ],
   "source": [
    "#print highest two numbers from this array \n",
    "in_arr =  geek.array([8,3,9,5,6]) \n",
    "print(in_arr[in_arr.argsort()[-2:][::-1]])\n",
    "\n",
    "arr = geek.array([8,3,9,5,6])\n",
    "print(arr[arr.argsort()[-2:]]) #two highest numbers in arr"
   ]
  },
  {
   "cell_type": "code",
   "execution_count": 9,
   "metadata": {},
   "outputs": [
    {
     "name": "stdout",
     "output_type": "stream",
     "text": [
      "Input array :  [[2 0 1]\n",
      " [5 4 3]]\n",
      "Output sorteded array indices along axis 0:  [[2 0 1]\n",
      " [5 4 3]]\n",
      "Output sorteded array indices along axis 1:  [[0 1 2]\n",
      " [3 4 5]]\n",
      "Output sorteded array indices along axis 0:  [[0 0 0]\n",
      " [1 1 1]]\n",
      "Output sorteded array indices along axis 1:  [[1 2 0]\n",
      " [2 1 0]]\n"
     ]
    }
   ],
   "source": [
    "import numpy as geek \n",
    "  \n",
    "# input 2d array \n",
    "in_arr = geek.array([[ 2, 0, 1], [ 5, 4, 3]]) \n",
    "print (\"Input array : \", in_arr)  \n",
    "  \n",
    "# output sorted array indices \n",
    "out_arr1 = geek.sort(in_arr, axis = 0) \n",
    "print (\"Output sorteded array indices along axis 0: \", out_arr1) \n",
    "out_arr2 = geek.sort(in_arr, axis = 1) \n",
    "print (\"Output sorteded array indices along axis 1: \", out_arr2)\n",
    "\n",
    "# output sorted array indices \n",
    "out_arr1 = geek.argsort(in_arr, axis = 0) \n",
    "print (\"Output sorteded array indices along axis 0: \", out_arr1) \n",
    "out_arr2 = geek.argsort(in_arr, axis = 1) \n",
    "print (\"Output sorteded array indices along axis 1: \", out_arr2)"
   ]
  },
  {
   "cell_type": "code",
   "execution_count": 10,
   "metadata": {},
   "outputs": [
    {
     "name": "stdout",
     "output_type": "stream",
     "text": [
      "[1]\n",
      "[1, 'a']\n",
      "[123]\n",
      "[1, 'a']\n"
     ]
    }
   ],
   "source": [
    "def addval(val, list = []): #study this example \n",
    "    list.append(val)\n",
    "    return(list)\n",
    "\n",
    "list1 = addval(1)\n",
    "print(list1)\n",
    "list2 = addval(123, [])\n",
    "list3 = addval('a')\n",
    "\n",
    "print(list1)\n",
    "print(list2)\n",
    "print(list3)"
   ]
  },
  {
   "cell_type": "code",
   "execution_count": null,
   "metadata": {},
   "outputs": [],
   "source": [
    "import random\n",
    "random.randint(10,20)\n",
    "random.randrange(10,20,4)"
   ]
  },
  {
   "cell_type": "code",
   "execution_count": 18,
   "metadata": {},
   "outputs": [
    {
     "name": "stdout",
     "output_type": "stream",
     "text": [
      "[[1 2 3]\n",
      " [0 5 7]\n",
      " [2 3 4]]\n",
      "\n",
      "\n",
      "[[1 2 3]\n",
      " [2 3 4]\n",
      " [0 5 7]]\n",
      "\n",
      "\n",
      "\n",
      "\n",
      "[[1 2 3]\n",
      " [0 3 7]\n",
      " [2 5 4]]\n",
      "\n",
      "\n",
      "[[1 2 3]\n",
      " [0 3 7]\n",
      " [2 4 5]]\n",
      "\n",
      "\n"
     ]
    }
   ],
   "source": [
    "arr = geek.array([[1,2,3],[0,5,7],[2,3,4]]) #sort a numpy column using argsort()\n",
    "print(arr)\n",
    "print(\"\\n\")\n",
    "print(arr[arr[:,1].argsort()])\n",
    "print(\"\\n\")\n",
    "arr[:,1].sort() # u cant give multiple columns here\n",
    "print(\"\\n\")\n",
    "print(arr)\n",
    "print(\"\\n\")\n",
    "arr[2,:].sort()\n",
    "print(arr)\n",
    "print(\"\\n\")"
   ]
  },
  {
   "cell_type": "markdown",
   "metadata": {},
   "source": [
    "### Pandas"
   ]
  },
  {
   "cell_type": "code",
   "execution_count": 23,
   "metadata": {},
   "outputs": [
    {
     "name": "stdout",
     "output_type": "stream",
     "text": [
      "    0   1   2\n",
      "8  24  25  26\n",
      "7  21  22  23\n",
      "6  18  19  20\n",
      "5  15  16  17\n",
      "4  12  13  14\n",
      "3   9  10  11\n",
      "2   6   7   8\n",
      "1   3   4   5\n",
      "0   0   1   2\n"
     ]
    },
    {
     "data": {
      "text/html": [
       "<div>\n",
       "<style scoped>\n",
       "    .dataframe tbody tr th:only-of-type {\n",
       "        vertical-align: middle;\n",
       "    }\n",
       "\n",
       "    .dataframe tbody tr th {\n",
       "        vertical-align: top;\n",
       "    }\n",
       "\n",
       "    .dataframe thead th {\n",
       "        text-align: right;\n",
       "    }\n",
       "</style>\n",
       "<table border=\"1\" class=\"dataframe\">\n",
       "  <thead>\n",
       "    <tr style=\"text-align: right;\">\n",
       "      <th></th>\n",
       "      <th>2</th>\n",
       "      <th>1</th>\n",
       "      <th>0</th>\n",
       "    </tr>\n",
       "  </thead>\n",
       "  <tbody>\n",
       "    <tr>\n",
       "      <td>0</td>\n",
       "      <td>2</td>\n",
       "      <td>1</td>\n",
       "      <td>0</td>\n",
       "    </tr>\n",
       "    <tr>\n",
       "      <td>1</td>\n",
       "      <td>5</td>\n",
       "      <td>4</td>\n",
       "      <td>3</td>\n",
       "    </tr>\n",
       "    <tr>\n",
       "      <td>2</td>\n",
       "      <td>8</td>\n",
       "      <td>7</td>\n",
       "      <td>6</td>\n",
       "    </tr>\n",
       "    <tr>\n",
       "      <td>3</td>\n",
       "      <td>11</td>\n",
       "      <td>10</td>\n",
       "      <td>9</td>\n",
       "    </tr>\n",
       "    <tr>\n",
       "      <td>4</td>\n",
       "      <td>14</td>\n",
       "      <td>13</td>\n",
       "      <td>12</td>\n",
       "    </tr>\n",
       "    <tr>\n",
       "      <td>5</td>\n",
       "      <td>17</td>\n",
       "      <td>16</td>\n",
       "      <td>15</td>\n",
       "    </tr>\n",
       "    <tr>\n",
       "      <td>6</td>\n",
       "      <td>20</td>\n",
       "      <td>19</td>\n",
       "      <td>18</td>\n",
       "    </tr>\n",
       "    <tr>\n",
       "      <td>7</td>\n",
       "      <td>23</td>\n",
       "      <td>22</td>\n",
       "      <td>21</td>\n",
       "    </tr>\n",
       "    <tr>\n",
       "      <td>8</td>\n",
       "      <td>26</td>\n",
       "      <td>25</td>\n",
       "      <td>24</td>\n",
       "    </tr>\n",
       "  </tbody>\n",
       "</table>\n",
       "</div>"
      ],
      "text/plain": [
       "    2   1   0\n",
       "0   2   1   0\n",
       "1   5   4   3\n",
       "2   8   7   6\n",
       "3  11  10   9\n",
       "4  14  13  12\n",
       "5  17  16  15\n",
       "6  20  19  18\n",
       "7  23  22  21\n",
       "8  26  25  24"
      ]
     },
     "execution_count": 23,
     "metadata": {},
     "output_type": "execute_result"
    }
   ],
   "source": [
    "import pandas as pd\n",
    "ddf = pd.DataFrame(np.arange(27).reshape(9,3)) #reverse rows df\n",
    "print(ddf.iloc[::-1,:])\n",
    "ddf.iloc[:,::-1] #reverse columns of df"
   ]
  },
  {
   "cell_type": "code",
   "execution_count": 24,
   "metadata": {},
   "outputs": [],
   "source": [
    "import numpy as np\n",
    "mylist = list('abcdef')\n",
    "myarr = np.arange(5)\n",
    "mydict = dict(zip(mylist, myarr))"
   ]
  },
  {
   "cell_type": "code",
   "execution_count": 29,
   "metadata": {},
   "outputs": [
    {
     "name": "stdout",
     "output_type": "stream",
     "text": [
      "  hey\n",
      "0   a\n",
      "1   b\n",
      "2   c\n",
      "3   d\n",
      "4   e\n",
      "5   f\n",
      "   shruti\n",
      "0       0\n",
      "1       1\n",
      "2       2\n",
      "3       3\n",
      "4       4\n",
      "   0  1\n",
      "a  a  0\n",
      "b  b  1\n",
      "c  c  2\n",
      "d  d  3\n",
      "e  e  4\n",
      "   a  b  c\n",
      "1  1  4  7\n",
      "2  2  5  8\n",
      "3  3  6  9\n"
     ]
    },
    {
     "data": {
      "text/html": [
       "<div>\n",
       "<style scoped>\n",
       "    .dataframe tbody tr th:only-of-type {\n",
       "        vertical-align: middle;\n",
       "    }\n",
       "\n",
       "    .dataframe tbody tr th {\n",
       "        vertical-align: top;\n",
       "    }\n",
       "\n",
       "    .dataframe thead th {\n",
       "        text-align: right;\n",
       "    }\n",
       "</style>\n",
       "<table border=\"1\" class=\"dataframe\">\n",
       "  <thead>\n",
       "    <tr style=\"text-align: right;\">\n",
       "      <th></th>\n",
       "      <th>name</th>\n",
       "      <th>age</th>\n",
       "      <th>city</th>\n",
       "    </tr>\n",
       "  </thead>\n",
       "  <tbody>\n",
       "    <tr>\n",
       "      <td>0</td>\n",
       "      <td>jack</td>\n",
       "      <td>34</td>\n",
       "      <td>Sydney</td>\n",
       "    </tr>\n",
       "    <tr>\n",
       "      <td>1</td>\n",
       "      <td>Riti</td>\n",
       "      <td>30</td>\n",
       "      <td>Delhi</td>\n",
       "    </tr>\n",
       "    <tr>\n",
       "      <td>2</td>\n",
       "      <td>Aadi</td>\n",
       "      <td>16</td>\n",
       "      <td>New york</td>\n",
       "    </tr>\n",
       "  </tbody>\n",
       "</table>\n",
       "</div>"
      ],
      "text/plain": [
       "   name  age      city\n",
       "0  jack   34    Sydney\n",
       "1  Riti   30     Delhi\n",
       "2  Aadi   16  New york"
      ]
     },
     "execution_count": 29,
     "metadata": {},
     "output_type": "execute_result"
    }
   ],
   "source": [
    "print(pd.DataFrame(mylist, columns=['hey']))\n",
    "print(pd.DataFrame(myarr, columns=['shruti']))\n",
    "print(pd.DataFrame(list(mydict.items()), index=list(mydict.keys()))) #note this one if the values were a list, then normal methd would do eg below:\n",
    "df = pd.DataFrame({'a': [1,2,3], 'b': (4,5,6), 'c': np.array([7,8,9])}, index=[1,2,3])\n",
    "print(df)\n",
    "# Dictionary with list object in values\n",
    "studentData = {\n",
    "    'name' : ['jack', 'Riti', 'Aadi'],\n",
    "    'age' : [34, 30, 16],\n",
    "    'city' : ['Sydney', 'Delhi', 'New york']\n",
    "}\n",
    "pd.DataFrame(studentData)"
   ]
  },
  {
   "cell_type": "code",
   "execution_count": 30,
   "metadata": {},
   "outputs": [
    {
     "data": {
      "text/html": [
       "<div>\n",
       "<style scoped>\n",
       "    .dataframe tbody tr th:only-of-type {\n",
       "        vertical-align: middle;\n",
       "    }\n",
       "\n",
       "    .dataframe tbody tr th {\n",
       "        vertical-align: top;\n",
       "    }\n",
       "\n",
       "    .dataframe thead th {\n",
       "        text-align: right;\n",
       "    }\n",
       "</style>\n",
       "<table border=\"1\" class=\"dataframe\">\n",
       "  <thead>\n",
       "    <tr style=\"text-align: right;\">\n",
       "      <th></th>\n",
       "      <th>hey</th>\n",
       "      <th>uyo</th>\n",
       "    </tr>\n",
       "  </thead>\n",
       "  <tbody>\n",
       "    <tr>\n",
       "      <td>0</td>\n",
       "      <td>a</td>\n",
       "      <td>0</td>\n",
       "    </tr>\n",
       "    <tr>\n",
       "      <td>1</td>\n",
       "      <td>b</td>\n",
       "      <td>1</td>\n",
       "    </tr>\n",
       "    <tr>\n",
       "      <td>2</td>\n",
       "      <td>c</td>\n",
       "      <td>2</td>\n",
       "    </tr>\n",
       "    <tr>\n",
       "      <td>3</td>\n",
       "      <td>d</td>\n",
       "      <td>3</td>\n",
       "    </tr>\n",
       "    <tr>\n",
       "      <td>4</td>\n",
       "      <td>e</td>\n",
       "      <td>4</td>\n",
       "    </tr>\n",
       "  </tbody>\n",
       "</table>\n",
       "</div>"
      ],
      "text/plain": [
       "  hey  uyo\n",
       "0   a    0\n",
       "1   b    1\n",
       "2   c    2\n",
       "3   d    3\n",
       "4   e    4"
      ]
     },
     "execution_count": 30,
     "metadata": {},
     "output_type": "execute_result"
    }
   ],
   "source": [
    "ser = pd.Series(mydict)  #create df from dictionory  method 2\n",
    "df = ser.to_frame().reset_index()\n",
    "df.columns = ['hey','uyo']\n",
    "df"
   ]
  },
  {
   "cell_type": "markdown",
   "metadata": {},
   "source": [
    "### DataFrame index\n",
    "df.index\n",
    "### DataFrame columns\n",
    "df.columns\n",
    "### DataFrame values\n",
    "df.values\n",
    "\n",
    "### Index object - similar to dictionary keys, returns an index array\n",
    "ser.index\n",
    "### Values - similar to dictionary values, returns an array\n",
    "ser.values"
   ]
  },
  {
   "cell_type": "code",
   "execution_count": null,
   "metadata": {},
   "outputs": [],
   "source": [
    "# Input\n",
    "ser1 = pd.Series([1, 2, 3, 4, 5])\n",
    "ser2 = pd.Series([4, 5, 6, 7, 8])\n",
    "\n",
    "# Solution\n",
    "ser1[~ser1.isin(ser2)] #elements in a not in b\n",
    "ser_u = pd.Series(np.union1d(ser1, ser2))  # union\n",
    "ser_i = pd.Series(np.intersect1d(ser1, ser2))  # intersect\n",
    "ser_u[~ser_u.isin(ser_i)] #not common to both series "
   ]
  },
  {
   "cell_type": "code",
   "execution_count": null,
   "metadata": {},
   "outputs": [],
   "source": [
    "#specific columns\n",
    "df = pd.read_csv('https://raw.githubusercontent.com/selva86/datasets/master/BostonHousing.csv', usecols=['crim', 'medv'])\n",
    "print(df.head())\n",
    "df.isnull().values.any()"
   ]
  },
  {
   "cell_type": "code",
   "execution_count": null,
   "metadata": {},
   "outputs": [],
   "source": [
    "# Input #rturn a columns as a df not as a series\n",
    "df = pd.DataFrame(np.arange(20).reshape(-1, 5), columns=list('abcde'))\n",
    "\n",
    "# Solution\n",
    "type(df[['a']])\n",
    "type(df.loc[:, ['a']])\n",
    "type(df.iloc[:, [0]])\n",
    "\n",
    "# Alternately the following returns a Series\n",
    "type(df.a)\n",
    "type(df['a'])\n",
    "type(df.loc[:, 'a'])\n",
    "type(df.iloc[:, 1])"
   ]
  },
  {
   "cell_type": "markdown",
   "metadata": {},
   "source": [
    "```\n",
    "MASTERDataIn['batch_id'] = MASTERDataIn['batch_id'].fillna(0.0).astype(int)\n",
    "df.isnull().values.any()\n",
    "```"
   ]
  },
  {
   "cell_type": "code",
   "execution_count": 33,
   "metadata": {},
   "outputs": [
    {
     "name": "stdout",
     "output_type": "stream",
     "text": [
      "            Brand  Price  Year\n",
      "1  Toyota Corolla  25000  2013\n",
      "0     Honda Civic  22000  2015\n",
      "2      Ford Focus  27000  2018\n",
      "4      Ford Focus  80000  2011\n",
      "3         Audi A4  35000  2018\n",
      "       col1      col2\n",
      "1 -0.321529 -0.705065\n",
      "4  0.701457  0.439712\n",
      "6 -2.337651 -1.588828\n",
      "2 -0.342409  0.250074\n",
      "3  1.138003  1.037082\n",
      "5 -0.155312 -1.065640\n",
      "9 -0.077368  0.798722\n",
      "8  0.217061 -1.251423\n",
      "0  0.257444  0.564863\n",
      "7 -0.058745 -0.526465\n"
     ]
    }
   ],
   "source": [
    "Cars = {'Brand': ['Honda Civic','Toyota Corolla','Ford Focus','Audi A4', 'Ford Focus'],\n",
    "        'Price': [22000,25000,27000,35000, 80000],\n",
    "        'Year': [2015,2013,2018,2018, 2011]\n",
    "        }\n",
    "df = pd.DataFrame(Cars)\n",
    "df.sort_values(by=['Brand', 'Year'], inplace=True, ascending = [False, False])\n",
    "print (df)\n",
    "\n",
    "unsorted_df = pd.DataFrame(np.random.randn(10,2),index=[1,4,6,2,3,5,9,8,0,7],columns = ['col2','col1'])\n",
    "sorted_df=unsorted_df.sort_index(axis=1)\n",
    "print(sorted_df)"
   ]
  },
  {
   "cell_type": "code",
   "execution_count": 38,
   "metadata": {},
   "outputs": [
    {
     "name": "stdout",
     "output_type": "stream",
     "text": [
      "    0\n",
      "10  a\n",
      "11  b\n",
      "12  c\n",
      "13  d\n"
     ]
    },
    {
     "data": {
      "text/plain": [
       "a    1\n",
       "c    3\n",
       "dtype: int64"
      ]
     },
     "execution_count": 38,
     "metadata": {},
     "output_type": "execute_result"
    }
   ],
   "source": [
    "data = np.array(['a','b','c','d'])\n",
    "df= pd.DataFrame(data, index = np.arange(4)+10)\n",
    "print(df)\n",
    "\n",
    "s = pd.Series([1,2,3,4,5],index = ['a','b','c','d','e'])\n",
    "s.loc[['a','c']]\n",
    "s.iloc[[0,2]]"
   ]
  },
  {
   "cell_type": "code",
   "execution_count": 53,
   "metadata": {},
   "outputs": [
    {
     "name": "stdout",
     "output_type": "stream",
     "text": [
      "   one  two\n",
      "a  1.0    1\n",
      "b  2.0    2\n",
      "c  3.0    3\n",
      "d  NaN    4\n"
     ]
    },
    {
     "data": {
      "text/html": [
       "<div>\n",
       "<style scoped>\n",
       "    .dataframe tbody tr th:only-of-type {\n",
       "        vertical-align: middle;\n",
       "    }\n",
       "\n",
       "    .dataframe tbody tr th {\n",
       "        vertical-align: top;\n",
       "    }\n",
       "\n",
       "    .dataframe thead th {\n",
       "        text-align: right;\n",
       "    }\n",
       "</style>\n",
       "<table border=\"1\" class=\"dataframe\">\n",
       "  <thead>\n",
       "    <tr style=\"text-align: right;\">\n",
       "      <th></th>\n",
       "      <th>two</th>\n",
       "    </tr>\n",
       "  </thead>\n",
       "  <tbody>\n",
       "    <tr>\n",
       "      <td>a</td>\n",
       "      <td>1</td>\n",
       "    </tr>\n",
       "    <tr>\n",
       "      <td>d</td>\n",
       "      <td>4</td>\n",
       "    </tr>\n",
       "  </tbody>\n",
       "</table>\n",
       "</div>"
      ],
      "text/plain": [
       "   two\n",
       "a    1\n",
       "d    4"
      ]
     },
     "execution_count": 53,
     "metadata": {},
     "output_type": "execute_result"
    }
   ],
   "source": [
    "a = np.array([[1,2],[3,4],[5,6]])\n",
    "pd.DataFrame(a)\n",
    "\n",
    "\n",
    "d = {'one' : pd.Series([1, 2, 3], index=['a', 'b', 'c']), 'two' : pd.Series([1, 2, 3, 4], index=['a', 'b', 'c', 'd'])}\n",
    "df = pd.DataFrame(d)\n",
    "df.loc[['c']]\n",
    "df.iloc[[2]]\n",
    "print(df)\n",
    "df.cumsum(axis=0)\n",
    "df.iloc[[0,3],[1]]"
   ]
  },
  {
   "cell_type": "code",
   "execution_count": null,
   "metadata": {},
   "outputs": [],
   "source": [
    "df = pd.DataFrame(np.random.randn(8, 4),\n",
    "index = ['a','b','c','d','e','f','g','h'], columns = ['A', 'B', 'C', 'D'])\n",
    "print(df.loc[:,['A','C']])\n",
    "print(df.loc[:,'A':'B'])\n",
    "\n",
    "print(df.loc[['a','b','f','h'],['A','C']])\n",
    "print(df.loc['a':'c']) #u cant do like this for columns\n",
    "print(df.loc['a']>0)\n",
    "\n",
    "print(df.iloc[:4])\n",
    "print(df.iloc[1:3, 2:4])"
   ]
  },
  {
   "cell_type": "code",
   "execution_count": null,
   "metadata": {},
   "outputs": [],
   "source": [
    "df = pd.DataFrame(np.random.randint(0, 3),index = pd.date_range('1/1/2000', periods=10),columns = ['A', 'B', 'C', 'D'])\n",
    "df\n",
    "print(df.rolling(window=3).sum())"
   ]
  },
  {
   "cell_type": "code",
   "execution_count": 54,
   "metadata": {},
   "outputs": [
    {
     "data": {
      "text/html": [
       "<div>\n",
       "<style scoped>\n",
       "    .dataframe tbody tr th:only-of-type {\n",
       "        vertical-align: middle;\n",
       "    }\n",
       "\n",
       "    .dataframe tbody tr th {\n",
       "        vertical-align: top;\n",
       "    }\n",
       "\n",
       "    .dataframe thead th {\n",
       "        text-align: right;\n",
       "    }\n",
       "</style>\n",
       "<table border=\"1\" class=\"dataframe\">\n",
       "  <thead>\n",
       "    <tr style=\"text-align: right;\">\n",
       "      <th></th>\n",
       "      <th>one</th>\n",
       "      <th>two</th>\n",
       "    </tr>\n",
       "  </thead>\n",
       "  <tbody>\n",
       "    <tr>\n",
       "      <td>0</td>\n",
       "      <td>10</td>\n",
       "      <td>shruti</td>\n",
       "    </tr>\n",
       "    <tr>\n",
       "      <td>1</td>\n",
       "      <td>20</td>\n",
       "      <td>gf</td>\n",
       "    </tr>\n",
       "    <tr>\n",
       "      <td>2</td>\n",
       "      <td>30</td>\n",
       "      <td>30</td>\n",
       "    </tr>\n",
       "    <tr>\n",
       "      <td>3</td>\n",
       "      <td>40</td>\n",
       "      <td>40</td>\n",
       "    </tr>\n",
       "    <tr>\n",
       "      <td>4</td>\n",
       "      <td>50</td>\n",
       "      <td>50</td>\n",
       "    </tr>\n",
       "    <tr>\n",
       "      <td>5</td>\n",
       "      <td>2000</td>\n",
       "      <td>60</td>\n",
       "    </tr>\n",
       "  </tbody>\n",
       "</table>\n",
       "</div>"
      ],
      "text/plain": [
       "    one     two\n",
       "0    10  shruti\n",
       "1    20      gf\n",
       "2    30      30\n",
       "3    40      40\n",
       "4    50      50\n",
       "5  2000      60"
      ]
     },
     "execution_count": 54,
     "metadata": {},
     "output_type": "execute_result"
    }
   ],
   "source": [
    "df = pd.DataFrame({'one':[10,20,30,40,50,2000], 'two':[1000,0,30,40,50,60]})\n",
    "df.replace({1000:'shruti', 0:'gf'})"
   ]
  },
  {
   "cell_type": "code",
   "execution_count": 55,
   "metadata": {},
   "outputs": [
    {
     "data": {
      "text/html": [
       "<div>\n",
       "<style scoped>\n",
       "    .dataframe tbody tr th:only-of-type {\n",
       "        vertical-align: middle;\n",
       "    }\n",
       "\n",
       "    .dataframe tbody tr th {\n",
       "        vertical-align: top;\n",
       "    }\n",
       "\n",
       "    .dataframe thead th {\n",
       "        text-align: right;\n",
       "    }\n",
       "</style>\n",
       "<table border=\"1\" class=\"dataframe\">\n",
       "  <thead>\n",
       "    <tr style=\"text-align: right;\">\n",
       "      <th></th>\n",
       "      <th>Team</th>\n",
       "      <th>Rank</th>\n",
       "      <th>Year</th>\n",
       "      <th>Points</th>\n",
       "    </tr>\n",
       "  </thead>\n",
       "  <tbody>\n",
       "    <tr>\n",
       "      <td>0</td>\n",
       "      <td>Riders</td>\n",
       "      <td>1</td>\n",
       "      <td>2014</td>\n",
       "      <td>876</td>\n",
       "    </tr>\n",
       "    <tr>\n",
       "      <td>1</td>\n",
       "      <td>Kings</td>\n",
       "      <td>1</td>\n",
       "      <td>2016</td>\n",
       "      <td>756</td>\n",
       "    </tr>\n",
       "    <tr>\n",
       "      <td>2</td>\n",
       "      <td>Kings</td>\n",
       "      <td>1</td>\n",
       "      <td>2017</td>\n",
       "      <td>788</td>\n",
       "    </tr>\n",
       "    <tr>\n",
       "      <td>3</td>\n",
       "      <td>Royals</td>\n",
       "      <td>1</td>\n",
       "      <td>2015</td>\n",
       "      <td>804</td>\n",
       "    </tr>\n",
       "    <tr>\n",
       "      <td>4</td>\n",
       "      <td>Riders</td>\n",
       "      <td>2</td>\n",
       "      <td>2015</td>\n",
       "      <td>789</td>\n",
       "    </tr>\n",
       "    <tr>\n",
       "      <td>5</td>\n",
       "      <td>Devils</td>\n",
       "      <td>2</td>\n",
       "      <td>2014</td>\n",
       "      <td>863</td>\n",
       "    </tr>\n",
       "    <tr>\n",
       "      <td>6</td>\n",
       "      <td>Riders</td>\n",
       "      <td>2</td>\n",
       "      <td>2016</td>\n",
       "      <td>694</td>\n",
       "    </tr>\n",
       "    <tr>\n",
       "      <td>7</td>\n",
       "      <td>Riders</td>\n",
       "      <td>2</td>\n",
       "      <td>2017</td>\n",
       "      <td>690</td>\n",
       "    </tr>\n",
       "    <tr>\n",
       "      <td>8</td>\n",
       "      <td>Devils</td>\n",
       "      <td>3</td>\n",
       "      <td>2015</td>\n",
       "      <td>673</td>\n",
       "    </tr>\n",
       "    <tr>\n",
       "      <td>9</td>\n",
       "      <td>Kings</td>\n",
       "      <td>3</td>\n",
       "      <td>2014</td>\n",
       "      <td>741</td>\n",
       "    </tr>\n",
       "    <tr>\n",
       "      <td>10</td>\n",
       "      <td>kings</td>\n",
       "      <td>4</td>\n",
       "      <td>2015</td>\n",
       "      <td>812</td>\n",
       "    </tr>\n",
       "    <tr>\n",
       "      <td>11</td>\n",
       "      <td>Royals</td>\n",
       "      <td>4</td>\n",
       "      <td>2014</td>\n",
       "      <td>701</td>\n",
       "    </tr>\n",
       "  </tbody>\n",
       "</table>\n",
       "</div>"
      ],
      "text/plain": [
       "      Team  Rank  Year  Points\n",
       "0   Riders     1  2014     876\n",
       "1    Kings     1  2016     756\n",
       "2    Kings     1  2017     788\n",
       "3   Royals     1  2015     804\n",
       "4   Riders     2  2015     789\n",
       "5   Devils     2  2014     863\n",
       "6   Riders     2  2016     694\n",
       "7   Riders     2  2017     690\n",
       "8   Devils     3  2015     673\n",
       "9    Kings     3  2014     741\n",
       "10   kings     4  2015     812\n",
       "11  Royals     4  2014     701"
      ]
     },
     "execution_count": 55,
     "metadata": {},
     "output_type": "execute_result"
    }
   ],
   "source": [
    "ipl_data = {'Team': ['Riders', 'Riders', 'Devils', 'Devils', 'Kings',\n",
    "   'kings', 'Kings', 'Kings', 'Riders', 'Royals', 'Royals', 'Riders'],\n",
    "   'Rank': [1, 2, 2, 3, 3,4 ,1 ,1,2 , 4,1,2],\n",
    "   'Year': [2014,2015,2014,2015,2014,2015,2016,2017,2016,2014,2015,2017],\n",
    "   'Points':[876,789,863,673,741,812,756,788,694,701,804,690]}\n",
    "df = pd.DataFrame(ipl_data)\n",
    "\n",
    "df.sort_values('Rank').reset_index(drop=True)"
   ]
  },
  {
   "cell_type": "code",
   "execution_count": 57,
   "metadata": {},
   "outputs": [
    {
     "name": "stdout",
     "output_type": "stream",
     "text": [
      "2014      Team  Rank  Year  Points\n",
      "0  Riders     1  2014     876\n",
      "2  Devils     2  2014     863\n",
      "4   Kings     3  2014     741\n",
      "9  Royals     4  2014     701\n",
      "2015       Team  Rank  Year  Points\n",
      "1   Riders     2  2015     789\n",
      "3   Devils     3  2015     673\n",
      "5    kings     4  2015     812\n",
      "10  Royals     1  2015     804\n",
      "2016      Team  Rank  Year  Points\n",
      "6   Kings     1  2016     756\n",
      "8  Riders     2  2016     694\n",
      "2017       Team  Rank  Year  Points\n",
      "7    Kings     1  2017     788\n",
      "11  Riders     2  2017     690\n"
     ]
    },
    {
     "data": {
      "text/html": [
       "<div>\n",
       "<style scoped>\n",
       "    .dataframe tbody tr th:only-of-type {\n",
       "        vertical-align: middle;\n",
       "    }\n",
       "\n",
       "    .dataframe tbody tr th {\n",
       "        vertical-align: top;\n",
       "    }\n",
       "\n",
       "    .dataframe thead th {\n",
       "        text-align: right;\n",
       "    }\n",
       "</style>\n",
       "<table border=\"1\" class=\"dataframe\">\n",
       "  <thead>\n",
       "    <tr style=\"text-align: right;\">\n",
       "      <th></th>\n",
       "      <th>sum</th>\n",
       "      <th>mean</th>\n",
       "    </tr>\n",
       "    <tr>\n",
       "      <th>Year</th>\n",
       "      <th></th>\n",
       "      <th></th>\n",
       "    </tr>\n",
       "  </thead>\n",
       "  <tbody>\n",
       "    <tr>\n",
       "      <td>2014</td>\n",
       "      <td>10</td>\n",
       "      <td>2.5</td>\n",
       "    </tr>\n",
       "    <tr>\n",
       "      <td>2015</td>\n",
       "      <td>10</td>\n",
       "      <td>2.5</td>\n",
       "    </tr>\n",
       "    <tr>\n",
       "      <td>2016</td>\n",
       "      <td>3</td>\n",
       "      <td>1.5</td>\n",
       "    </tr>\n",
       "    <tr>\n",
       "      <td>2017</td>\n",
       "      <td>3</td>\n",
       "      <td>1.5</td>\n",
       "    </tr>\n",
       "  </tbody>\n",
       "</table>\n",
       "</div>"
      ],
      "text/plain": [
       "      sum  mean\n",
       "Year           \n",
       "2014   10   2.5\n",
       "2015   10   2.5\n",
       "2016    3   1.5\n",
       "2017    3   1.5"
      ]
     },
     "execution_count": 57,
     "metadata": {},
     "output_type": "execute_result"
    }
   ],
   "source": [
    "groups = df.groupby('Year')\n",
    "for i, q in groups:\n",
    "    print(i,q)\n",
    "groups.get_group(2014)\n",
    "groups['Rank'].agg([np.sum, np.mean])"
   ]
  },
  {
   "cell_type": "code",
   "execution_count": 59,
   "metadata": {},
   "outputs": [
    {
     "name": "stdout",
     "output_type": "stream",
     "text": [
      "   id    Name subject_id\n",
      "0   1    Alex       sub1\n",
      "1   2     Amy       sub2\n",
      "2   3   Allen       sub4\n",
      "3   4   Alice       sub6\n",
      "4   5  Ayoung       sub5\n",
      "\n",
      "   id   Name subject_id\n",
      "0   1  Billy       sub2\n",
      "1   2  Brian       sub4\n",
      "2   3   Bran       sub3\n",
      "3   4  Bryce       sub6\n",
      "4   5  Betty       sub5\n",
      "\n",
      "   id_x  Name_x subject_id  id_y Name_y\n",
      "0     2     Amy       sub2     1  Billy\n",
      "1     3   Allen       sub4     2  Brian\n",
      "2     4   Alice       sub6     4  Bryce\n",
      "3     5  Ayoung       sub5     5  Betty\n",
      "\n",
      "   id_x Name_x subject_id  id_y  Name_y\n",
      "0     1  Billy       sub2   2.0     Amy\n",
      "1     2  Brian       sub4   3.0   Allen\n",
      "2     3   Bran       sub3   NaN     NaN\n",
      "3     4  Bryce       sub6   4.0   Alice\n",
      "4     5  Betty       sub5   5.0  Ayoung\n",
      "\n"
     ]
    }
   ],
   "source": [
    "left = pd.DataFrame({\n",
    "   'id':[1,2,3,4,5],\n",
    "   'Name': ['Alex', 'Amy', 'Allen', 'Alice', 'Ayoung'],\n",
    "   'subject_id':['sub1','sub2','sub4','sub6','sub5']})\n",
    "right = pd.DataFrame({\n",
    "   'id':[1,2,3,4,5],\n",
    "   'Name': ['Billy', 'Brian', 'Bran', 'Bryce', 'Betty'],\n",
    "   'subject_id':['sub2','sub4','sub3','sub6','sub5']})\n",
    "print(left, end=\"\\n\\n\")\n",
    "print(right, end='\\n\\n')\n",
    "print(pd.merge(left, right, on='subject_id', how='inner'), end='\\n\\n')\n",
    "print(pd.merge(right, left, on='subject_id', how='left'), end='\\n\\n')"
   ]
  },
  {
   "cell_type": "code",
   "execution_count": 61,
   "metadata": {},
   "outputs": [
    {
     "name": "stdout",
     "output_type": "stream",
     "text": [
      "AxesSubplot(0.125,0.125;0.775x0.755)\n",
      "AxesSubplot(0.125,0.125;0.775x0.755)\n",
      "AxesSubplot(0.125,0.125;0.775x0.755)\n",
      "AxesSubplot(0.125,0.125;0.775x0.755)\n"
     ]
    },
    {
     "data": {
      "image/png": "[encoded data removed]",
      "text/plain": [
       "<Figure size 432x288 with 1 Axes>"
      ]
     },
     "metadata": {
      "needs_background": "light"
     },
     "output_type": "display_data"
    },
    {
     "data": {
      "image/png": "[encoded data removed]",
      "text/plain": [
       "<Figure size 432x288 with 1 Axes>"
      ]
     },
     "metadata": {
      "needs_background": "light"
     },
     "output_type": "display_data"
    },
    {
     "data": {
      "image/png": "[encoded data removed]",
      "text/plain": [
       "<Figure size 432x288 with 1 Axes>"
      ]
     },
     "metadata": {
      "needs_background": "light"
     },
     "output_type": "display_data"
    },
    {
     "data": {
      "image/png": "[encoded data removed]",
      "text/plain": [
       "<Figure size 432x288 with 1 Axes>"
      ]
     },
     "metadata": {
      "needs_background": "light"
     },
     "output_type": "display_data"
    }
   ],
   "source": [
    "print(df.plot())\n",
    "print(df.plot.bar())\n",
    "print(df.plot.hist(bins=20))\n",
    "print(df.plot.box())"
   ]
  },
  {
   "cell_type": "markdown",
   "metadata": {},
   "source": [
    "```\n",
    "so with loc and iloc based indexing, when you want a range u will say it like \n",
    "df.loc[3:4, 1:2] -> no brackets reqd\n",
    "df.loc[[3,5,6],[1,5,6]] -> brackets reqd when u select particular rows and columns\n",
    "```"
   ]
  },
  {
   "cell_type": "code",
   "execution_count": 69,
   "metadata": {},
   "outputs": [
    {
     "name": "stdout",
     "output_type": "stream",
     "text": [
      "      Team  Rank  Year  Points\n",
      "0   Riders     1  2014     876\n",
      "1   Riders     2  2015     789\n",
      "2   Devils     2  2014     863\n",
      "3   Devils     3  2015     673\n",
      "4    Kings     3  2014     741\n",
      "5    kings     4  2015     812\n",
      "6    Kings     1  2016     756\n",
      "7    Kings     1  2017     788\n",
      "8   Riders     2  2016     694\n",
      "9   Royals     4  2014     701\n",
      "10  Royals     1  2015     804\n",
      "11  Riders     2  2017     690\n",
      "\n",
      "\n",
      "\n",
      "     Team  Rank\n",
      "1  Riders     2\n",
      "\n",
      "\n",
      "\n",
      "   Rank  Year\n",
      "2     2  2014\n",
      "3     3  2015\n",
      "8     2  2016\n",
      "\n",
      "\n",
      "\n"
     ]
    },
    {
     "data": {
      "text/html": [
       "<div>\n",
       "<style scoped>\n",
       "    .dataframe tbody tr th:only-of-type {\n",
       "        vertical-align: middle;\n",
       "    }\n",
       "\n",
       "    .dataframe tbody tr th {\n",
       "        vertical-align: top;\n",
       "    }\n",
       "\n",
       "    .dataframe thead th {\n",
       "        text-align: right;\n",
       "    }\n",
       "</style>\n",
       "<table border=\"1\" class=\"dataframe\">\n",
       "  <thead>\n",
       "    <tr style=\"text-align: right;\">\n",
       "      <th></th>\n",
       "      <th>Team</th>\n",
       "      <th>Points</th>\n",
       "    </tr>\n",
       "  </thead>\n",
       "  <tbody>\n",
       "    <tr>\n",
       "      <td>2</td>\n",
       "      <td>Devils</td>\n",
       "      <td>863</td>\n",
       "    </tr>\n",
       "    <tr>\n",
       "      <td>3</td>\n",
       "      <td>Devils</td>\n",
       "      <td>673</td>\n",
       "    </tr>\n",
       "    <tr>\n",
       "      <td>8</td>\n",
       "      <td>Riders</td>\n",
       "      <td>694</td>\n",
       "    </tr>\n",
       "  </tbody>\n",
       "</table>\n",
       "</div>"
      ],
      "text/plain": [
       "     Team  Points\n",
       "2  Devils     863\n",
       "3  Devils     673\n",
       "8  Riders     694"
      ]
     },
     "execution_count": 69,
     "metadata": {},
     "output_type": "execute_result"
    }
   ],
   "source": [
    "print(df)\n",
    "print(\"\\n\\n\")\n",
    "print(df.iloc[1:2, 0:2])\n",
    "print(\"\\n\\n\")\n",
    "print(df.loc[[2,3,8],['Rank','Year']])\n",
    "print(\"\\n\\n\")\n",
    "df.iloc[[2,3,8],[0,3]]"
   ]
  },
  {
   "cell_type": "markdown",
   "metadata": {},
   "source": [
    "### drop columns "
   ]
  },
  {
   "cell_type": "markdown",
   "metadata": {},
   "source": [
    "```\n",
    "The best way to do this in pandas is to use drop:\n",
    "\n",
    "df = df.drop('column_name', 1)\n",
    "where 1 is the axis number (0 for rows and 1 for columns.)\n",
    "\n",
    "To delete the column without having to reassign df you can do:\n",
    "\n",
    "df.drop('column_name', axis=1, inplace=True)\n",
    "Finally, to drop by column number instead of by column label, try this to delete, e.g. the 1st, 2nd and 4th columns:\n",
    "\n",
    "df = df.drop(df.columns[[0, 1, 3]], axis=1) \n",
    "```"
   ]
  },
  {
   "cell_type": "code",
   "execution_count": 25,
   "metadata": {},
   "outputs": [],
   "source": [
    "l = [1,2,3]"
   ]
  },
  {
   "cell_type": "code",
   "execution_count": 30,
   "metadata": {},
   "outputs": [
    {
     "data": {
      "text/plain": [
       "'1,2,3'"
      ]
     },
     "execution_count": 30,
     "metadata": {},
     "output_type": "execute_result"
    }
   ],
   "source": [
    "','.join([str(i) for i in l])"
   ]
  },
  {
   "cell_type": "code",
   "execution_count": 3,
   "metadata": {},
   "outputs": [],
   "source": [
    "import PyPDF2"
   ]
  },
  {
   "cell_type": "code",
   "execution_count": 9,
   "metadata": {},
   "outputs": [
    {
     "name": "stdout",
     "output_type": "stream",
     "text": [
      "2\n",
      " A Simple PDF File  This is a small demonstration .pdf file -  just for use in the Virtual Mechanics tutorials. More text. And more  text. And more text. And more text. And more text.  And more text. And more text. And more text. And more text. And more  text. And more text. Boring, zzzzz. And more text. And more text. And  more text. And more text. And more text. And more text. And more text.  And more text. And more text.  And more text. And more text. And more text. And more text. And more  text. And more text. And more text. Even more. Continued on page 2 ...\n"
     ]
    }
   ],
   "source": [
    "pdfFileObj = open('sample.pdf', 'rb')\n",
    "pdfReader = PyPDF2.PdfFileReader(pdfFileObj)\n",
    "print(pdfReader.numPages)\n",
    "pageObj = pdfReader.getPage(0)\n",
    "print(pageObj.extractText())"
   ]
  },
  {
   "cell_type": "code",
   "execution_count": 18,
   "metadata": {},
   "outputs": [],
   "source": [
    "import tabula\n",
    "df = tabula.read_pdf(\"ShrutiGputaWritingSample-Firm Analysis.pdf\", pages=4)"
   ]
  },
  {
   "cell_type": "code",
   "execution_count": 19,
   "metadata": {},
   "outputs": [
    {
     "data": {
      "text/html": [
       "<div>\n",
       "<style scoped>\n",
       "    .dataframe tbody tr th:only-of-type {\n",
       "        vertical-align: middle;\n",
       "    }\n",
       "\n",
       "    .dataframe tbody tr th {\n",
       "        vertical-align: top;\n",
       "    }\n",
       "\n",
       "    .dataframe thead th {\n",
       "        text-align: right;\n",
       "    }\n",
       "</style>\n",
       "<table border=\"1\" class=\"dataframe\">\n",
       "  <thead>\n",
       "    <tr style=\"text-align: right;\">\n",
       "      <th></th>\n",
       "      <th>Strength</th>\n",
       "      <th>Weakness</th>\n",
       "    </tr>\n",
       "  </thead>\n",
       "  <tbody>\n",
       "    <tr>\n",
       "      <td>0</td>\n",
       "      <td>Market Reputation - Widely viewed as a</td>\n",
       "      <td>Limited success outside core business – Even</td>\n",
       "    </tr>\n",
       "    <tr>\n",
       "      <td>1</td>\n",
       "      <td>well-run company, with robust earnings</td>\n",
       "      <td>though CVS Health is one of the leading</td>\n",
       "    </tr>\n",
       "    <tr>\n",
       "      <td>2</td>\n",
       "      <td>NaN</td>\n",
       "      <td>organizations in pharmaceutical industry it has</td>\n",
       "    </tr>\n",
       "    <tr>\n",
       "      <td>3</td>\n",
       "      <td>Strong Brand Portfolio – Over the years CVS</td>\n",
       "      <td>NaN</td>\n",
       "    </tr>\n",
       "    <tr>\n",
       "      <td>4</td>\n",
       "      <td>NaN</td>\n",
       "      <td>faced challenges in moving to other product</td>\n",
       "    </tr>\n",
       "    <tr>\n",
       "      <td>5</td>\n",
       "      <td>Health has invested in building a strong</td>\n",
       "      <td>segments</td>\n",
       "    </tr>\n",
       "    <tr>\n",
       "      <td>6</td>\n",
       "      <td>brand portfolio.</td>\n",
       "      <td>NaN</td>\n",
       "    </tr>\n",
       "    <tr>\n",
       "      <td>7</td>\n",
       "      <td>Opportunity</td>\n",
       "      <td>Threat</td>\n",
       "    </tr>\n",
       "    <tr>\n",
       "      <td>8</td>\n",
       "      <td>Aetna Acquisition - The combined CVS-</td>\n",
       "      <td>Amazon.com (AMZN) – Amazon expressing</td>\n",
       "    </tr>\n",
       "    <tr>\n",
       "      <td>9</td>\n",
       "      <td>Aetna partnership is at a controlling position</td>\n",
       "      <td>interest in competing with CVS on the</td>\n",
       "    </tr>\n",
       "    <tr>\n",
       "      <td>10</td>\n",
       "      <td>in shaping the consumerism of healthcare</td>\n",
       "      <td>prescription drug distribution front.</td>\n",
       "    </tr>\n",
       "    <tr>\n",
       "      <td>11</td>\n",
       "      <td>NaN</td>\n",
       "      <td>Government Regulations - CVS being one of</td>\n",
       "    </tr>\n",
       "    <tr>\n",
       "      <td>12</td>\n",
       "      <td>NaN</td>\n",
       "      <td>the largest PBMs is under increased scrutiny by</td>\n",
       "    </tr>\n",
       "    <tr>\n",
       "      <td>13</td>\n",
       "      <td>NaN</td>\n",
       "      <td>NaN</td>\n",
       "    </tr>\n",
       "    <tr>\n",
       "      <td>14</td>\n",
       "      <td>NaN</td>\n",
       "      <td>the government in lowering drug prices</td>\n",
       "    </tr>\n",
       "  </tbody>\n",
       "</table>\n",
       "</div>"
      ],
      "text/plain": [
       "                                          Strength  \\\n",
       "0           Market Reputation - Widely viewed as a   \n",
       "1           well-run company, with robust earnings   \n",
       "2                                              NaN   \n",
       "3      Strong Brand Portfolio – Over the years CVS   \n",
       "4                                              NaN   \n",
       "5         Health has invested in building a strong   \n",
       "6                                 brand portfolio.   \n",
       "7                                      Opportunity   \n",
       "8            Aetna Acquisition - The combined CVS-   \n",
       "9   Aetna partnership is at a controlling position   \n",
       "10        in shaping the consumerism of healthcare   \n",
       "11                                             NaN   \n",
       "12                                             NaN   \n",
       "13                                             NaN   \n",
       "14                                             NaN   \n",
       "\n",
       "                                           Weakness  \n",
       "0      Limited success outside core business – Even  \n",
       "1           though CVS Health is one of the leading  \n",
       "2   organizations in pharmaceutical industry it has  \n",
       "3                                               NaN  \n",
       "4       faced challenges in moving to other product  \n",
       "5                                          segments  \n",
       "6                                               NaN  \n",
       "7                                            Threat  \n",
       "8             Amazon.com (AMZN) – Amazon expressing  \n",
       "9             interest in competing with CVS on the  \n",
       "10            prescription drug distribution front.  \n",
       "11        Government Regulations - CVS being one of  \n",
       "12  the largest PBMs is under increased scrutiny by  \n",
       "13                                              NaN  \n",
       "14           the government in lowering drug prices  "
      ]
     },
     "execution_count": 19,
     "metadata": {},
     "output_type": "execute_result"
    }
   ],
   "source": [
    "df"
   ]
  },
  {
   "cell_type": "code",
   "execution_count": null,
   "metadata": {},
   "outputs": [],
   "source": []
  }
 ],
 "metadata": {
  "kernelspec": {
   "display_name": "Python 3",
   "language": "python",
   "name": "python3"
  },
  "language_info": {
   "codemirror_mode": {
    "name": "ipython",
    "version": 3
   },
   "file_extension": ".py",
   "mimetype": "text/x-python",
   "name": "python",
   "nbconvert_exporter": "python",
   "pygments_lexer": "ipython3",
   "version": "3.7.4"
  }
 },
 "nbformat": 4,
 "nbformat_minor": 2
}
