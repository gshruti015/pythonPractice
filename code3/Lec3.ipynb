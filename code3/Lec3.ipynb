{
 "cells": [
  {
   "cell_type": "markdown",
   "metadata": {},
   "source": [
    "Q2. Given an integer N. You have to find the square root of that given integer. \n",
    "If the given integer N is not a perfect square, then print the integral part of the square root of N."
   ]
  },
  {
   "cell_type": "code",
   "execution_count": 64,
   "metadata": {},
   "outputs": [
    {
     "name": "stdout",
     "output_type": "stream",
     "text": [
      "6 36\n"
     ]
    }
   ],
   "source": [
    "# m = int(input())\n",
    "m = 39\n",
    "def check(m):\n",
    "    root = [i for i in range(0,int(m/2)) if i*i == m]\n",
    "    return(root)\n",
    "\n",
    "for i in range(0,6):\n",
    "    val = check(m-i)\n",
    "    if len(val) > 0:\n",
    "        print(val[0], (m-i))"
   ]
  },
  {
   "cell_type": "markdown",
   "metadata": {},
   "source": [
    "Q3. Given a array which has been made up by concatenation of two sorted sub arrays. You hsave to merge these parts so that resulting array is sorted.\n",
    "Input: arr[] = {1, 5, 10, 2, 3, 6, 7, 11} Output: arr[] = {1, 2, 3, 5, 6, 7, 10, 11}"
   ]
  },
  {
   "cell_type": "code",
   "execution_count": 87,
   "metadata": {},
   "outputs": [],
   "source": [
    "arr = list('012021112')\n",
    "\n",
    "arr1 = []\n",
    "for i in range(len(arr)):\n",
    "      temp = min(arr)\n",
    "      arr.remove(temp)\n",
    "      arr1.append(temp)  \n",
    "arr1"
   ]
  },
  {
   "cell_type": "markdown",
   "metadata": {},
   "source": [
    "Q5. Given a boolean 2D array, where each row is sorted. Find the row with the maximum number of 1s."
   ]
  },
  {
   "cell_type": "code",
   "execution_count": 113,
   "metadata": {},
   "outputs": [
    {
     "name": "stdout",
     "output_type": "stream",
     "text": [
      "   0  1  2  3\n",
      "0  1  1  1  1\n",
      "1  1  1  0  1\n",
      "2  0  1  0  1\n",
      "3  0  1  1  0\n",
      "\n",
      "Row withlargest number of 1s is  0\n",
      "\n",
      "Col withlargest number of 1s is  1\n"
     ]
    }
   ],
   "source": [
    "import numpy as np\n",
    "import pandas as pd\n",
    "rand_df = pd.DataFrame(np.random.randint(0,2,size=(4, 4))) #creating random df\n",
    "print(rand_df)\n",
    "\n",
    "l = []\n",
    "for i in range(rand_df.shape[0]):\n",
    "    l.append(sum(list(rand_df.loc[i,:])))\n",
    "print('\\nRow withlargest number of 1s is ',np.argmax(l))\n",
    "\n",
    "l = []\n",
    "for i in range(rand_df.shape[1]):\n",
    "    l.append(sum(list(rand_df.loc[:,i])))\n",
    "print('\\nCol withlargest number of 1s is ',np.argmax(l))"
   ]
  },
  {
   "cell_type": "code",
   "execution_count": null,
   "metadata": {},
   "outputs": [],
   "source": []
  }
 ],
 "metadata": {
  "kernelspec": {
   "display_name": "Python 3",
   "language": "python",
   "name": "python3"
  },
  "language_info": {
   "codemirror_mode": {
    "name": "ipython",
    "version": 3
   },
   "file_extension": ".py",
   "mimetype": "text/x-python",
   "name": "python",
   "nbconvert_exporter": "python",
   "pygments_lexer": "ipython3",
   "version": "3.7.4"
  }
 },
 "nbformat": 4,
 "nbformat_minor": 2
}
