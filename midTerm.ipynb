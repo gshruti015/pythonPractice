{
 "cells": [
  {
   "cell_type": "code",
   "execution_count": null,
   "metadata": {},
   "outputs": [],
   "source": [
    "dic1 = {'a':'23', 'b':'67', 'c':'45', 'd':'12'}\n",
    "bigword = None\n",
    "count = 0\n",
    "for k, v in dic1.items():\n",
    "    if bigword == None or count < int(v):\n",
    "        bigword = k\n",
    "        count = int(v)\n",
    "bigword, count\n",
    "\n",
    "l1 = [1,45,7,8,90,45, 90]\n",
    "dic2 = {}\n",
    "for item in l1:\n",
    "    dic2[item]=dic2.get(item,0)+1\n",
    "dic2"
   ]
  },
  {
   "cell_type": "code",
   "execution_count": null,
   "metadata": {},
   "outputs": [],
   "source": [
    "#floor operation 4 not 4.5\n",
    "9//4 \n",
    "\n",
    "# bitwise operations would convert numbers to binary and then operate on it, its a binary xor operation, gives one only of one of themm is one\n",
    "print(bin(9), bin(4), 9^4, bin(13))\n",
    "\n",
    "a = 60\n",
    "bin(a)[2:]\n",
    "a= 240\n",
    "bin(a << 2)[2:]\n",
    "a = 15\n",
    "bin(a >> 2)[2:]\n",
    "\n",
    "# list addition willjust add values at the end or at the beginning\n",
    "a= [1,2,3]\n",
    "b = ['c','d','e']\n",
    "a+b\n",
    "\n",
    "#tuples are faster than lists\n",
    "#even to create a tuple with single value we need to specify the comma:\n",
    "a = ('q',)\n",
    "b = ('q','w','e')\n",
    "b = ('Shruti',)+b\n",
    "print(b)"
   ]
  },
  {
   "cell_type": "code",
   "execution_count": null,
   "metadata": {},
   "outputs": [],
   "source": [
    "#using two variables\n",
    "for k,v in dic1.items():\n",
    "    print(k, v)\n",
    "    \n",
    "#using one variable\n",
    "for i in dic1:\n",
    "    print(i, dic1[i])\n",
    "    \n",
    "#this one is incorrect\n",
    "for x,y in dic1:\n",
    "    print(x, y)\n",
    "    \n",
    "# a 23\n",
    "# b 67\n",
    "# c 45\n",
    "# d 12\n",
    "# a 23\n",
    "# b 67\n",
    "# c 45\n",
    "# d 12\n",
    "# ---------------------------------------------------------------------------\n",
    "# ValueError                                Traceback (most recent call last)\n",
    "# <ipython-input-133-a71c988af47e> in <module>\n",
    "#       3 for i in dic1:\n",
    "#       4     print(i, dic1[i])\n",
    "# ----> 5 for x,y in dic1:\n",
    "#       6     print(x, y)\n",
    "\n",
    "# ValueError: not enough values to unpack (expected 2, got 1)"
   ]
  },
  {
   "cell_type": "code",
   "execution_count": 10,
   "metadata": {},
   "outputs": [
    {
     "data": {
      "text/plain": [
       "-321"
      ]
     },
     "execution_count": 10,
     "metadata": {},
     "output_type": "execute_result"
    }
   ],
   "source": [
    "# reverse a number with sign \n",
    "num = -123\n",
    "rev = int(str(num)[::-1]) if num > 0 else -int(str(0-num)[::-1])\n",
    "rev"
   ]
  },
  {
   "cell_type": "code",
   "execution_count": 46,
   "metadata": {},
   "outputs": [
    {
     "name": "stdout",
     "output_type": "stream",
     "text": [
      "********\n",
      "***  ***\n",
      "**    **\n",
      "*      *\n",
      "*      *\n",
      "**    **\n",
      "***  ***\n",
      "********"
     ]
    }
   ],
   "source": [
    "n = 8\n",
    "pat1 = [('*'*int((n-i)/2)) + ' '*int(i) + ('*'*int((n-i)/2)) for i in range(2,n,2)]\n",
    "pat2 = [\"*\"*n]+pat1\n",
    "print('\\n'.join(pat2))\n",
    "print('\\n'.join(pat2[::-1]), end='')"
   ]
  },
  {
   "cell_type": "code",
   "execution_count": 1,
   "metadata": {
    "scrolled": true
   },
   "outputs": [
    {
     "name": "stdout",
     "output_type": "stream",
     "text": [
      "1 hello Shruti\n",
      "2 ['a', 'b', 'c', 'd', 'e']\n",
      "3 True\n",
      "\n",
      "\n",
      "1 hello Shruti\n",
      "2 ['a', 'b', 'c', 'd', 'e']\n",
      "3 True\n",
      "\n",
      "\n",
      "1\thello Shruti\n",
      "2\ta|b|c|d|e\n",
      "3\tTrue\n"
     ]
    }
   ],
   "source": [
    "l1 = {1: 'hello Shruti', 2: ['a','b','c','d','e'], 3: True}\n",
    "#all the ways to get items from dictionoary \n",
    "for k,v in l1.items():\n",
    "    print(k,v)\n",
    "\n",
    "print('\\n')\n",
    "\n",
    "for k in l1.keys():\n",
    "    print(k, l1[k])\n",
    "\n",
    "print('\\n')\n",
    "\n",
    "\n",
    "for k in l1.keys():\n",
    "    if(type(l1[k])==list):\n",
    "        print(str(k), end='\\t')\n",
    "        print('|'.join(l1[k]))\n",
    "    else:\n",
    "        print(str(k) + '\\t' + str(l1[k]))"
   ]
  },
  {
   "cell_type": "code",
   "execution_count": 154,
   "metadata": {
    "scrolled": true
   },
   "outputs": [
    {
     "name": "stdout",
     "output_type": "stream",
     "text": [
      "3.7.4 (default, Sep  7 2019, 18:27:02) \n",
      "[Clang 10.0.1 (clang-1001.0.46.4)]\n",
      "2019-10-17 01:56:09.346854\n",
      "1.1\n",
      "3.8013271108436504\n",
      "Shruti gupta\n",
      "gupta\n",
      "Shruti\n"
     ]
    }
   ],
   "source": [
    "import sys\n",
    "print(sys.version)\n",
    "import datetime\n",
    "print(datetime.datetime.now()) #import date, import time, import datetime\n",
    "import math\n",
    "print(list(map(lambda r: math.pi*r**2, [float(input())]))[0]) #prin area for entered r\n",
    "print('\\n'.join(list(input().split())[::-1])) # print reverse of entered name\n",
    "print(tuple(l), input().split(',')) # print tuple and list of comma seperared input\n",
    "print(list(map(lambda s: s[s.find('.')+1:], [input()]))[0]) #print the extension of the file \n",
    "print('/'.join(str(i) for i in (11, 12, 2014))) #print formatted date\n",
    "print(list(map(lambda n : int(n+n)+ int(n+n+n) + int(n), [input()]))[0]) \n",
    "s = 'shruti'\n",
    "v1 = [s] ['shruti']\n",
    "v2 = list(s) #['s','h','r','u','t','i']"
   ]
  },
  {
   "cell_type": "code",
   "execution_count": null,
   "metadata": {},
   "outputs": [],
   "source": []
  }
 ],
 "metadata": {
  "kernelspec": {
   "display_name": "Python 3",
   "language": "python",
   "name": "python3"
  },
  "language_info": {
   "codemirror_mode": {
    "name": "ipython",
    "version": 3
   },
   "file_extension": ".py",
   "mimetype": "text/x-python",
   "name": "python",
   "nbconvert_exporter": "python",
   "pygments_lexer": "ipython3",
   "version": "3.7.4"
  }
 },
 "nbformat": 4,
 "nbformat_minor": 2
}
